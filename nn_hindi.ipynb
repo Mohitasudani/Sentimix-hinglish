{
  "nbformat": 4,
  "nbformat_minor": 0,
  "metadata": {
    "kernelspec": {
      "name": "python3",
      "display_name": "Python 3"
    },
    "language_info": {
      "codemirror_mode": {
        "name": "ipython",
        "version": 3
      },
      "file_extension": ".py",
      "mimetype": "text/x-python",
      "name": "python",
      "nbconvert_exporter": "python",
      "pygments_lexer": "ipython3",
      "version": "3.7.1"
    },
    "colab": {
      "name": "nn-hindi.ipynb",
      "provenance": [],
      "collapsed_sections": []
    },
    "accelerator": "GPU"
  },
  "cells": [
    {
      "cell_type": "markdown",
      "metadata": {
        "id": "qUz487MgfY7u",
        "colab_type": "text"
      },
      "source": [
        "*italicized text*# hindi ULMFiT from scratch"
      ]
    },
    {
      "cell_type": "code",
      "metadata": {
        "id": "129QtIyDfY7x",
        "colab_type": "code",
        "colab": {}
      },
      "source": [
        "%reload_ext autoreload\n",
        "%autoreload 2\n",
        "%matplotlib inline\n",
        "\n",
        "from fastai import *\n",
        "from fastai.text import *"
      ],
      "execution_count": 0,
      "outputs": []
    },
    {
      "cell_type": "code",
      "metadata": {
        "id": "QEVRpAU6fY71",
        "colab_type": "code",
        "colab": {}
      },
      "source": [
        "# bs=48\n",
        "# bs=24\n",
        "bs=128"
      ],
      "execution_count": 0,
      "outputs": []
    },
    {
      "cell_type": "code",
      "metadata": {
        "id": "TYBPsYSXfu45",
        "colab_type": "code",
        "outputId": "40e64c7a-33fa-4862-fd07-bffc95086f4d",
        "colab": {
          "base_uri": "https://localhost:8080/",
          "height": 34
        }
      },
      "source": [
        "data_path"
      ],
      "execution_count": 0,
      "outputs": [
        {
          "output_type": "execute_result",
          "data": {
            "text/plain": [
              "PosixPath('/root/.fastai/data')"
            ]
          },
          "metadata": {
            "tags": []
          },
          "execution_count": 7
        }
      ]
    },
    {
      "cell_type": "code",
      "metadata": {
        "id": "f_Dt8JP28_X0",
        "colab_type": "code",
        "outputId": "0427c484-480a-4c33-ab30-3cf3b4bf96cb",
        "colab": {
          "base_uri": "https://localhost:8080/",
          "height": 122
        }
      },
      "source": [
        "from google.colab import drive\n",
        "drive.mount('/content/drive')"
      ],
      "execution_count": 0,
      "outputs": [
        {
          "output_type": "stream",
          "text": [
            "Go to this URL in a browser: https://accounts.google.com/o/oauth2/auth?client_id=947318989803-6bn6qk8qdgf4n4g3pfee6491hc0brc4i.apps.googleusercontent.com&redirect_uri=urn%3aietf%3awg%3aoauth%3a2.0%3aoob&response_type=code&scope=email%20https%3a%2f%2fwww.googleapis.com%2fauth%2fdocs.test%20https%3a%2f%2fwww.googleapis.com%2fauth%2fdrive%20https%3a%2f%2fwww.googleapis.com%2fauth%2fdrive.photos.readonly%20https%3a%2f%2fwww.googleapis.com%2fauth%2fpeopleapi.readonly\n",
            "\n",
            "Enter your authorization code:\n",
            "··········\n",
            "Mounted at /content/drive\n"
          ],
          "name": "stdout"
        }
      ]
    },
    {
      "cell_type": "code",
      "metadata": {
        "id": "vcWEZ_pX9Hm2",
        "colab_type": "code",
        "outputId": "067291d5-5b13-4033-bb38-24ac604b6a88",
        "colab": {
          "base_uri": "https://localhost:8080/",
          "height": 34
        }
      },
      "source": [
        "cd drive/My\\ Drive/hinglish/mkdata/mk_hing"
      ],
      "execution_count": 0,
      "outputs": [
        {
          "output_type": "stream",
          "text": [
            "/content/drive/My Drive/hinglish/mkdata/mk_hing\n"
          ],
          "name": "stdout"
        }
      ]
    },
    {
      "cell_type": "code",
      "metadata": {
        "id": "EEhhga4jfY77",
        "colab_type": "code",
        "colab": {}
      },
      "source": [
        "data_path = Config.data_path()"
      ],
      "execution_count": 0,
      "outputs": []
    },
    {
      "cell_type": "code",
      "metadata": {
        "id": "UKPBmGaNfY7-",
        "colab_type": "code",
        "colab": {}
      },
      "source": [
        "lang = 'hing'4/wQE47XPBTApPRwgAJIZ0bkPfXAvxv0ve288ZxAmWQDk4BtUQOAuFbaA\n",
        "# lang = 'zh'"
      ],
      "execution_count": 0,
      "outputs": []
    },
    {
      "cell_type": "code",
      "metadata": {
        "id": "_MAvfFcufY8A",
        "colab_type": "code",
        "colab": {}
      },
      "source": [
        "name = f'{lang}wiki'\n",
        "path = Path('../../name')\n",
        "path.mkdir(exist_ok=True, parents=True)\n",
        "lm_fns = [f'{lang}_wt', f'{lang}_wt_vocab']"
      ],
      "execution_count": 0,
      "outputs": []
    },
    {
      "cell_type": "markdown",
      "metadata": {
        "id": "d1muXj7rfY8D",
        "colab_type": "text"
      },
      "source": [
        "## Hindi wikipedia model"
      ]
    },
    {
      "cell_type": "markdown",
      "metadata": {
        "id": "uZA-AusPfY8E",
        "colab_type": "text"
      },
      "source": [
        "### Download data"
      ]
    },
    {
      "cell_type": "code",
      "metadata": {
        "id": "vqpYYPilg_M5",
        "colab_type": "code",
        "outputId": "ffdc6ada-af5a-4219-93da-b99f03e9c677",
        "colab": {
          "base_uri": "https://localhost:8080/",
          "height": 255
        }
      },
      "source": [
        "pip install nlputils"
      ],
      "execution_count": 0,
      "outputs": [
        {
          "output_type": "stream",
          "text": [
            "Collecting nlputils\n",
            "  Downloading https://files.pythonhosted.org/packages/30/35/e729599c59a64e84967e589409a2d57924a5c7732c6240177407e1b7dc89/nlputils-1.0.6-py2.py3-none-any.whl\n",
            "Requirement already satisfied: numpy in /usr/local/lib/python3.6/dist-packages (from nlputils) (1.17.5)\n",
            "Requirement already satisfied: future in /usr/local/lib/python3.6/dist-packages (from nlputils) (0.16.0)\n",
            "Requirement already satisfied: scipy in /usr/local/lib/python3.6/dist-packages (from nlputils) (1.4.1)\n",
            "Requirement already satisfied: matplotlib in /usr/local/lib/python3.6/dist-packages (from nlputils) (3.1.2)\n",
            "Requirement already satisfied: cycler>=0.10 in /usr/local/lib/python3.6/dist-packages (from matplotlib->nlputils) (0.10.0)\n",
            "Requirement already satisfied: python-dateutil>=2.1 in /usr/local/lib/python3.6/dist-packages (from matplotlib->nlputils) (2.6.1)\n",
            "Requirement already satisfied: kiwisolver>=1.0.1 in /usr/local/lib/python3.6/dist-packages (from matplotlib->nlputils) (1.1.0)\n",
            "Requirement already satisfied: pyparsing!=2.0.4,!=2.1.2,!=2.1.6,>=2.0.1 in /usr/local/lib/python3.6/dist-packages (from matplotlib->nlputils) (2.4.6)\n",
            "Requirement already satisfied: six in /usr/local/lib/python3.6/dist-packages (from cycler>=0.10->matplotlib->nlputils) (1.12.0)\n",
            "Requirement already satisfied: setuptools in /usr/local/lib/python3.6/dist-packages (from kiwisolver>=1.0.1->matplotlib->nlputils) (42.0.2)\n",
            "Installing collected packages: nlputils\n",
            "Successfully installed nlputils-1.0.6\n"
          ],
          "name": "stdout"
        }
      ]
    },
    {
      "cell_type": "code",
      "metadata": {
        "id": "s-G5ifFofY8F",
        "colab_type": "code",
        "colab": {}
      },
      "source": [
        "from nlputils import split_wiki,get_wiki"
      ],
      "execution_count": 0,
      "outputs": []
    },
    {
      "cell_type": "code",
      "metadata": {
        "id": "xoyvJYLKiD9U",
        "colab_type": "code",
        "colab": {}
      },
      "source": [
        "def get_wiki(path,lang):\n",
        "    name = f'{lang}wiki'\n",
        "    if (path/name).exists():\n",
        "        print(f\"{path/name} already exists; not downloading\")\n",
        "        return\n",
        "    \n",
        "    xml_fn = f\"{lang}wiki-latest-pages-articles.xml\"\n",
        "    zip_fn = f\"{xml_fn}.bz2\"\n",
        "\n",
        "    if not (path/xml_fn).exists():\n",
        "        print(\"downloading...\")\n",
        "        download_url(f'https://dumps.wikimedia.org/{name}/latest/{zip_fn}', path/zip_fn)\n",
        "        print(\"unzipping...\")\n",
        "        bunzip(path/zip_fn)\n",
        "\n",
        "    with working_directory(path):\n",
        "        if not (path/'wikiextractor').exists(): os.system('git clone https://github.com/attardi/wikiextractor.git')\n",
        "        print(\"extracting...\")\n",
        "        os.system(\"python wikiextractor/WikiExtractor.py --processes 4 --no_templates \" +\n",
        "            f\"--min_text_length 1800 --filter_disambig_pages --log_file log -b 100G -q {xml_fn}\")\n",
        "    shutil.move(str(path/'text/AA/wiki_00'), str(path/name))\n",
        "    shutil.rmtree(path/'text')\n"
      ],
      "execution_count": 0,
      "outputs": []
    },
    {
      "cell_type": "code",
      "metadata": {
        "id": "WIOYMJc_h-Ek",
        "colab_type": "code",
        "colab": {}
      },
      "source": [
        "def split_wiki(path,lang):\n",
        "    dest = path/'docs'\n",
        "    name = f'{lang}wiki'\n",
        "    if dest.exists():\n",
        "        print(f\"{dest} already exists; not splitting\")\n",
        "        return dest\n",
        "\n",
        "        \n",
        "    dest.mkdir(exist_ok=True, parents=True)\n",
        "    title_re = re.compile(rf'<doc id=\"\\d+\" url=\"https://{lang}.wikipedia.org/wiki\\?curid=\\d+\" title=\"([^\"]+)\">')\n",
        "    lines = (path/name).open()\n",
        "    f=None\n",
        "\n",
        "    for i,l in enumerate(lines):\n",
        "        if i%100000 == 0: print(i)\n",
        "        if l.startswith('<doc id=\"'):\n",
        "            title = title_re.findall(l)[0].replace('/','_')\n",
        "            if len(title)>150: continue\n",
        "            if f: f.close()\n",
        "            f = (dest/f'{title}.txt').open('w')\n",
        "        else: f.write(l)\n",
        "    f.close()\n",
        "    return dest"
      ],
      "execution_count": 0,
      "outputs": []
    },
    {
      "cell_type": "code",
      "metadata": {
        "id": "VObjK9sPfY8H",
        "colab_type": "code",
        "outputId": "abe66398-94f5-41ab-d908-94016c36a1fe",
        "colab": {
          "base_uri": "https://localhost:8080/",
          "height": 51
        }
      },
      "source": [
        "get_wiki(path,lang)"
      ],
      "execution_count": 0,
      "outputs": [
        {
          "output_type": "stream",
          "text": [
            "unzipping...\n",
            "extracting...\n"
          ],
          "name": "stdout"
        }
      ]
    },
    {
      "cell_type": "code",
      "metadata": {
        "id": "HRuOGryNfY8K",
        "colab_type": "code",
        "outputId": "4195bfa6-0f64-4c11-aec9-5605a4d09367",
        "colab": {
          "base_uri": "https://localhost:8080/",
          "height": 102
        }
      },
      "source": [
        "path.ls()"
      ],
      "execution_count": 0,
      "outputs": [
        {
          "output_type": "execute_result",
          "data": {
            "text/plain": [
              "[PosixPath('/root/.fastai/data/hiwiki/hiwiki-latest-pages-articles.xml.bz2'),\n",
              " PosixPath('/root/.fastai/data/hiwiki/hiwiki-latest-pages-articles.xml'),\n",
              " PosixPath('/root/.fastai/data/hiwiki/wikiextractor'),\n",
              " PosixPath('/root/.fastai/data/hiwiki/log'),\n",
              " PosixPath('/root/.fastai/data/hiwiki/hiwiki')]"
            ]
          },
          "metadata": {
            "tags": []
          },
          "execution_count": 17
        }
      ]
    },
    {
      "cell_type": "code",
      "metadata": {
        "id": "TNGUW2WTkO6n",
        "colab_type": "code",
        "outputId": "eaa44e8a-4470-47bc-c73a-6f710e1f5539",
        "colab": {
          "base_uri": "https://localhost:8080/",
          "height": 122
        }
      },
      "source": [
        "from google.colab import drive\n",
        "drive.mount('/drive')"
      ],
      "execution_count": 0,
      "outputs": [
        {
          "output_type": "stream",
          "text": [
            "Go to this URL in a browser: https://accounts.google.com/o/oauth2/auth?client_id=947318989803-6bn6qk8qdgf4n4g3pfee6491hc0brc4i.apps.googleusercontent.com&redirect_uri=urn%3aietf%3awg%3aoauth%3a2.0%3aoob&response_type=code&scope=email%20https%3a%2f%2fwww.googleapis.com%2fauth%2fdocs.test%20https%3a%2f%2fwww.googleapis.com%2fauth%2fdrive%20https%3a%2f%2fwww.googleapis.com%2fauth%2fdrive.photos.readonly%20https%3a%2f%2fwww.googleapis.com%2fauth%2fpeopleapi.readonly\n",
            "\n",
            "Enter your authorization code:\n",
            "··········\n",
            "Mounted at /drive\n"
          ],
          "name": "stdout"
        }
      ]
    },
    {
      "cell_type": "code",
      "metadata": {
        "id": "tiPnoN0ESATF",
        "colab_type": "code",
        "outputId": "e4ffee95-7aa6-4f6e-ff0a-05e2913e7e22",
        "colab": {
          "base_uri": "https://localhost:8080/",
          "height": 34
        }
      },
      "source": [
        "cd ../drive/My\\ Drive/hinglish/"
      ],
      "execution_count": 0,
      "outputs": [
        {
          "output_type": "stream",
          "text": [
            "/drive/My Drive/hinglish\n"
          ],
          "name": "stdout"
        }
      ]
    },
    {
      "cell_type": "code",
      "metadata": {
        "id": "bm3xK-KJSSWy",
        "colab_type": "code",
        "outputId": "2c5f9330-fd95-4797-9a85-51e1d18980e2",
        "colab": {
          "base_uri": "https://localhost:8080/",
          "height": 34
        }
      },
      "source": [
        "cd .fastai/data/hiwiki/"
      ],
      "execution_count": 0,
      "outputs": [
        {
          "output_type": "stream",
          "text": [
            "/drive/My Drive/hinglish/.fastai/data/hiwiki\n"
          ],
          "name": "stdout"
        }
      ]
    },
    {
      "cell_type": "code",
      "metadata": {
        "id": "JTZDCGmUSxoi",
        "colab_type": "code",
        "colab": {}
      },
      "source": [
        "mkdir docs_hing"
      ],
      "execution_count": 0,
      "outputs": []
    },
    {
      "cell_type": "code",
      "metadata": {
        "id": "GFuRDZDNS5e7",
        "colab_type": "code",
        "outputId": "573fb828-fcc1-4592-ed3c-51df958ccdb2",
        "colab": {
          "base_uri": "https://localhost:8080/",
          "height": 34
        }
      },
      "source": [
        "cd docs_hing"
      ],
      "execution_count": 0,
      "outputs": [
        {
          "output_type": "stream",
          "text": [
            "/drive/My Drive/hinglish/.fastai/data/hiwiki/docs_hing\n"
          ],
          "name": "stdout"
        }
      ]
    },
    {
      "cell_type": "code",
      "metadata": {
        "id": "YKnqUxv5S_MF",
        "colab_type": "code",
        "outputId": "3e7da4e8-d521-41f5-c5d2-211f9d5505e8",
        "colab": {
          "base_uri": "https://localhost:8080/",
          "height": 119
        }
      },
      "source": [
        "!git clone https://github.com/HarshTrivedi/HinglishSentiment.git"
      ],
      "execution_count": 0,
      "outputs": [
        {
          "output_type": "stream",
          "text": [
            "Cloning into 'HinglishSentiment'...\n",
            "remote: Enumerating objects: 1485, done.\u001b[K\n",
            "remote: Total 1485 (delta 0), reused 0 (delta 0), pack-reused 1485\u001b[K\n",
            "Receiving objects: 100% (1485/1485), 23.83 MiB | 7.90 MiB/s, done.\n",
            "Resolving deltas: 100% (93/93), done.\n",
            "Checking out files: 100% (1396/1396), done.\n"
          ],
          "name": "stdout"
        }
      ]
    },
    {
      "cell_type": "code",
      "metadata": {
        "id": "qgFc_1o0ag8I",
        "colab_type": "code",
        "outputId": "71915439-8161-4cae-cc1b-bbf8581e3bca",
        "colab": {
          "base_uri": "https://localhost:8080/",
          "height": 544
        }
      },
      "source": [
        "ls docs_hing/"
      ],
      "execution_count": 0,
      "outputs": [
        {
          "output_type": "stream",
          "text": [
            "data_100.txt  data_129.txt  data18.txt   data_47.txt  data_75.txt\n",
            "data_101.txt  data12.txt    data19.txt   data_48.txt  data_76.txt\n",
            "data_102.txt  data_130.txt  data20.txt   data_49.txt  data_77.txt\n",
            "data_103.txt  data_131.txt  data_21.txt  data4.txt    data_78.txt\n",
            "data_104.txt  data_132.txt  data_22.txt  data_50.txt  data_79.txt\n",
            "data_105.txt  data_133.txt  data_23.txt  data_51.txt  data7.txt\n",
            "data_106.txt  data_134.txt  data_24.txt  data_52.txt  data_80.txt\n",
            "data_107.txt  data_135.txt  data_25.txt  data_53.txt  data_81.txt\n",
            "data_108.txt  data_136.txt  data_26.txt  data_54.txt  data_82.txt\n",
            "data_109.txt  data_137.txt  data_27.txt  data_55.txt  data_83.txt\n",
            "data10.txt    data_138.txt  data_28.txt  data_56.txt  data_84.txt\n",
            "data_110.txt  data_139.txt  data_29.txt  data_57.txt  data_85.txt\n",
            "data_111.txt  data13.txt    data2.txt    data_58.txt  data_86.txt\n",
            "data_112.txt  data_140.txt  data_30.txt  data_59.txt  data_87.txt\n",
            "data_113.txt  data_141.txt  data_31.txt  data5.txt    data_88.txt\n",
            "data_114.txt  data_142.txt  data_32.txt  data_60.txt  data_89.txt\n",
            "data_115.txt  data_143.txt  data_33.txt  data_61.txt  data8.txt\n",
            "data_116.txt  data_144.txt  data_34.txt  data_62.txt  data_90.txt\n",
            "data_117.txt  data_145.txt  data_35.txt  data_63.txt  data_91.txt\n",
            "data_118.txt  data_146.txt  data_36.txt  data_64.txt  data_92.txt\n",
            "data_119.txt  data_147.txt  data_37.txt  data_65.txt  data_93.txt\n",
            "data11.txt    data_148.txt  data_38.txt  data_66.txt  data_94.txt\n",
            "data_120.txt  data_149.txt  data_39.txt  data_67.txt  data_95.txt\n",
            "data_121.txt  data14.txt    data3.txt    data_68.txt  data_96.txt\n",
            "data_122.txt  data_150.txt  data_40.txt  data_69.txt  data_97.txt\n",
            "data_123.txt  data150.txt   data_41.txt  data6.txt    data_98.txt\n",
            "data_124.txt  data151.txt   data_42.txt  data_70.txt  data_99.txt\n",
            "data_125.txt  data152.txt   data_43.txt  data_71.txt  data9.txt\n",
            "data_126.txt  data15.txt    data_44.txt  data_72.txt  data.txt\n",
            "data_127.txt  data16.txt    data_45.txt  data_73.txt  hing_databunch\n",
            "data_128.txt  data17.txt    data_46.txt  data_74.txt  romanized_big_hindi.txt\n"
          ],
          "name": "stdout"
        }
      ]
    },
    {
      "cell_type": "code",
      "metadata": {
        "id": "KdtBLGxhglR4",
        "colab_type": "code",
        "colab": {}
      },
      "source": [
        "!cp HinglishSentiment/hinglish_english_classifier/romanized_big_hindi.txt ./docs_hing/"
      ],
      "execution_count": 0,
      "outputs": []
    },
    {
      "cell_type": "code",
      "metadata": {
        "id": "BGpD3RHdgw_R",
        "colab_type": "code",
        "colab": {}
      },
      "source": [
        "rm -r HinglishSentiment/"
      ],
      "execution_count": 0,
      "outputs": []
    },
    {
      "cell_type": "code",
      "metadata": {
        "id": "HpWgIVSWlXtQ",
        "colab_type": "code",
        "colab": {}
      },
      "source": [
        "cp .fastai/ ../drive/My\\ Drive/hinglish -r"
      ],
      "execution_count": 0,
      "outputs": []
    },
    {
      "cell_type": "code",
      "metadata": {
        "id": "3o-bSNm7mEw2",
        "colab_type": "code",
        "outputId": "91cfb4d2-1598-49ce-d5cc-10db1753f3eb",
        "colab": {
          "base_uri": "https://localhost:8080/",
          "height": 51
        }
      },
      "source": [
        "ls ../drive/My\\ Drive/hinglish"
      ],
      "execution_count": 0,
      "outputs": [
        {
          "output_type": "stream",
          "text": [
            " cc.hi.300.vec       \u001b[0m\u001b[01;34mData\u001b[0m/            '(lm_fns[1] + .pkl'   train_conll.txt\n",
            " crawl-300d-2M.vec   hi_wt_vocab.pkl   \u001b[01;34mpreprocessing\u001b[0m/       trial_conll.txt\n"
          ],
          "name": "stdout"
        }
      ]
    },
    {
      "cell_type": "code",
      "metadata": {
        "id": "g2wCenmho3cu",
        "colab_type": "code",
        "outputId": "bce2fbc4-2fce-4bc2-c7b1-1fa2b0fe67b2",
        "colab": {
          "base_uri": "https://localhost:8080/",
          "height": 34
        }
      },
      "source": [
        "cd ../drive/My\\ Drive/hinglish/"
      ],
      "execution_count": 0,
      "outputs": [
        {
          "output_type": "stream",
          "text": [
            "/drive/My Drive/hinglish\n"
          ],
          "name": "stdout"
        }
      ]
    },
    {
      "cell_type": "code",
      "metadata": {
        "id": "H9O0Kwaoo71j",
        "colab_type": "code",
        "colab": {}
      },
      "source": [
        "rm .fastai/ -r"
      ],
      "execution_count": 0,
      "outputs": []
    },
    {
      "cell_type": "code",
      "metadata": {
        "id": "P4J4MdJjpH46",
        "colab_type": "code",
        "outputId": "302abc4c-30b1-48d2-cff2-33a5299dc00a",
        "colab": {
          "base_uri": "https://localhost:8080/",
          "height": 51
        }
      },
      "source": [
        "ls .fastai/data/hiwiki/"
      ],
      "execution_count": 0,
      "outputs": [
        {
          "output_type": "stream",
          "text": [
            "\u001b[0m\u001b[01;34mdocs\u001b[0m/   hiwiki-latest-pages-articles.xml      log\n",
            "hiwiki  hiwiki-latest-pages-articles.xml.bz2  \u001b[01;34mwikiextractor\u001b[0m/\n"
          ],
          "name": "stdout"
        }
      ]
    },
    {
      "cell_type": "code",
      "metadata": {
        "id": "NSu6gEmwtisK",
        "colab_type": "code",
        "outputId": "7590c2e7-c136-4500-e9b9-1f149e0180b9",
        "colab": {
          "base_uri": "https://localhost:8080/",
          "height": 34
        }
      },
      "source": [
        "path"
      ],
      "execution_count": 0,
      "outputs": [
        {
          "output_type": "execute_result",
          "data": {
            "text/plain": [
              "PosixPath('/root/.fastai/data/hiwiki')"
            ]
          },
          "metadata": {
            "tags": []
          },
          "execution_count": 89
        }
      ]
    },
    {
      "cell_type": "code",
      "metadata": {
        "id": "7_n5EXMPfY8R",
        "colab_type": "code",
        "outputId": "eeedb6f7-cedf-49d7-a6f9-06366a26257e",
        "colab": {
          "base_uri": "https://localhost:8080/",
          "height": 85
        }
      },
      "source": [
        "!head -n4 {path}/{name}"
      ],
      "execution_count": 0,
      "outputs": [
        {
          "output_type": "stream",
          "text": [
            "<doc id=\"14\" url=\"https://hi.wikipedia.org/wiki?curid=14\" title=\"दैनिक पूजा\">\n",
            "दैनिक पूजा\n",
            "\n",
            "दैनिक पूजा विधि हिन्दू धर्म की कई उपासना पद्धतियों में से एक है। ये एक दैनिक कर्म है। विभिन्न देवताओं को प्रसन्न करने के लिये कई मन्त्र बताये गये हैं, जो लगभग सभी पुराणों से हैं। वैदिक मन्त्र यज्ञ और हवन के लिये होते हैं।\n"
          ],
          "name": "stdout"
        }
      ]
    },
    {
      "cell_type": "markdown",
      "metadata": {
        "id": "f1rs-0ZEfY8U",
        "colab_type": "text"
      },
      "source": [
        "This function splits the single wikipedia file into a separate file per article. This is often easier to work with."
      ]
    },
    {
      "cell_type": "code",
      "metadata": {
        "id": "OzICe6TvfY8V",
        "colab_type": "code",
        "outputId": "8d31571d-87fc-4816-98b4-1fa4a4a1f097",
        "colab": {
          "base_uri": "https://localhost:8080/",
          "height": 163
        }
      },
      "source": [
        "dest = PosixPath('/root/.fastai/data/hiwiki/docs/')"
      ],
      "execution_count": 0,
      "outputs": [
        {
          "output_type": "error",
          "ename": "NameError",
          "evalue": "ignored",
          "traceback": [
            "\u001b[0;31m---------------------------------------------------------------------------\u001b[0m",
            "\u001b[0;31mNameError\u001b[0m                                 Traceback (most recent call last)",
            "\u001b[0;32m<ipython-input-24-a8741d39d30c>\u001b[0m in \u001b[0;36m<module>\u001b[0;34m()\u001b[0m\n\u001b[0;32m----> 1\u001b[0;31m \u001b[0mdest\u001b[0m \u001b[0;34m=\u001b[0m \u001b[0mPosixPath\u001b[0m\u001b[0;34m(\u001b[0m\u001b[0;34m'/root/.fastai/data/hiwiki/docs/'\u001b[0m\u001b[0;34m)\u001b[0m\u001b[0;34m\u001b[0m\u001b[0;34m\u001b[0m\u001b[0m\n\u001b[0m",
            "\u001b[0;31mNameError\u001b[0m: name 'PosixPath' is not defined"
          ]
        }
      ]
    },
    {
      "cell_type": "code",
      "metadata": {
        "id": "oyLeo7ksfY8X",
        "colab_type": "code",
        "outputId": "5e435b5f-132f-4418-dd58-696f2cbee44c",
        "colab": {
          "base_uri": "https://localhost:8080/",
          "height": 102
        }
      },
      "source": [
        "dest.ls()[:5]"
      ],
      "execution_count": 0,
      "outputs": [
        {
          "output_type": "execute_result",
          "data": {
            "text/plain": [
              "[PosixPath('/root/.fastai/data/hiwiki/docs/मुख्य रत्न एवं मणियां.txt'),\n",
              " PosixPath('/root/.fastai/data/hiwiki/docs/पीतज्वर.txt'),\n",
              " PosixPath('/root/.fastai/data/hiwiki/docs/मर्सिडीज बेंज डब्ल्यू 212.txt'),\n",
              " PosixPath('/root/.fastai/data/hiwiki/docs/आधार अंक.txt'),\n",
              " PosixPath('/root/.fastai/data/hiwiki/docs/श्यामजी कृष्ण वर्मा.txt')]"
            ]
          },
          "metadata": {
            "tags": []
          },
          "execution_count": 41
        }
      ]
    },
    {
      "cell_type": "markdown",
      "metadata": {
        "id": "776yqzy3fY8c",
        "colab_type": "text"
      },
      "source": [
        "### Create pretrained model"
      ]
    },
    {
      "cell_type": "code",
      "metadata": {
        "id": "9yg6Wb9MhrI7",
        "colab_type": "code",
        "outputId": "278a6ec7-2bcd-476f-d60e-79cf9781064d",
        "colab": {
          "base_uri": "https://localhost:8080/",
          "height": 34
        }
      },
      "source": [
        "cd ../"
      ],
      "execution_count": 0,
      "outputs": [
        {
          "output_type": "stream",
          "text": [
            "/drive/My Drive/hinglish/.fastai/data/hiwiki\n"
          ],
          "name": "stdout"
        }
      ]
    },
    {
      "cell_type": "code",
      "metadata": {
        "id": "SVuTIm4PfY8c",
        "colab_type": "code",
        "outputId": "4fce692b-8925-4be6-9e41-baf5ab40edf1",
        "colab": {
          "base_uri": "https://localhost:8080/",
          "height": 34
        }
      },
      "source": [
        "data = (TextList.from_folder('./')\n",
        "            .split_by_rand_pct(0.1, seed=42)\n",
        "            .label_for_lm()           \n",
        "            .databunch(bs=bs, num_workers=1))\n",
        "\n",
        "data.save(f'hing_databunch')\n",
        "len(data.vocab.itos),len(data.train_ds)"
      ],
      "execution_count": 0,
      "outputs": [
        {
          "output_type": "display_data",
          "data": {
            "text/html": [
              ""
            ],
            "text/plain": [
              "<IPython.core.display.HTML object>"
            ]
          },
          "metadata": {
            "tags": []
          }
        },
        {
          "output_type": "display_data",
          "data": {
            "text/html": [
              ""
            ],
            "text/plain": [
              "<IPython.core.display.HTML object>"
            ]
          },
          "metadata": {
            "tags": []
          }
        },
        {
          "output_type": "execute_result",
          "data": {
            "text/plain": [
              "(17512, 1465)"
            ]
          },
          "metadata": {
            "tags": []
          },
          "execution_count": 12
        }
      ]
    },
    {
      "cell_type": "code",
      "metadata": {
        "id": "hDyWJ1t1F44d",
        "colab_type": "code",
        "outputId": "e27fc84f-984e-4dec-d3fa-ea01629fa3d9",
        "colab": {
          "base_uri": "https://localhost:8080/",
          "height": 34
        }
      },
      "source": [
        "data = (TextList.from_folder('./')\n",
        "            .split_by_rand_pct(0.1, seed=42)\n",
        "            .label_for_lm()           \n",
        "            .databunch(bs=bs, num_workers=1))\n",
        "\n",
        "data.save(f'hing_databunch')\n",
        "len(data.vocab.itos),len(data.train_ds)"
      ],
      "execution_count": 0,
      "outputs": [
        {
          "output_type": "display_data",
          "data": {
            "text/html": [
              ""
            ],
            "text/plain": [
              "<IPython.core.display.HTML object>"
            ]
          },
          "metadata": {
            "tags": []
          }
        },
        {
          "output_type": "display_data",
          "data": {
            "text/html": [
              ""
            ],
            "text/plain": [
              "<IPython.core.display.HTML object>"
            ]
          },
          "metadata": {
            "tags": []
          }
        },
        {
          "output_type": "execute_result",
          "data": {
            "text/plain": [
              "(17512, 1465)"
            ]
          },
          "metadata": {
            "tags": []
          },
          "execution_count": 10
        }
      ]
    },
    {
      "cell_type": "code",
      "metadata": {
        "id": "krMq8RqG-369",
        "colab_type": "code",
        "outputId": "f9d4642b-7589-496b-d7c2-bda41c95cc27",
        "colab": {
          "base_uri": "https://localhost:8080/",
          "height": 1000
        }
      },
      "source": [
        "data"
      ],
      "execution_count": 0,
      "outputs": [
        {
          "output_type": "execute_result",
          "data": {
            "text/plain": [
              "TextLMDataBunch;\n",
              "\n",
              "Train: LabelList (1465 items)\n",
              "x: LMTextList\n",
              "xxbos rahe saree prathvee ke logon yahova ka jayajayakar karo ! \n",
              "  anand se yahova kee xxunk karo ! jayajayakar ke sath usake sammukh ao ! \n",
              "  nishchay jano , ki yahova kee parameshvar haai . usee ne ham ko banaya , aur ham usee ke haain ham usakee praja , aur usakee charai kee bheden haain .. \n",
              "  usake faattkon se dhanyavad , aur usake anganon men stuati karate huae pravesh karo , usaka dhanyavad karo , aur usake nam ko dhany kaho ! \n",
              "  kyonaki yahova bhla haai , usakee karoona sada ke liye , aur usakee sachchai peeddhee se peeddhee tak banee rahatee haai .. \n",
              " ,xxbos maain karoona aur nyay ke vishay gaunga he yahova , maain tera hee bhjan gaunga . \n",
              "  maain xxunk se khre marga men chaloonga . too mere pas kab aaega ! maain apane ghar men man kee khrai ke sath apanee chal chaloonga \n",
              "  maain kisee achhe kam par chitt n lagaunga .. maain xxunk par xxunk ke kam se xxunk rakhta hoon aeese kam men maain n xxunk . \n",
              "  tteddha svabhav mujh se door rahega maain burai ko xxunk bhee naheen .. \n",
              "  jo chhpaikar apane padosee kee xxunk khaa , usako maain satyanash karoonga jisakee ankhen xxunk hon aur jisaka man xxunk haai , usakee maain n xxunk .. \n",
              "  meree ankhen desh ke vishvasayogy logon par lagee xxunk ki ve mere sang rahen jo khre marga par chalata haai vahee mera xxunk hoga .. \n",
              "  jo chhl karata haai vah mere ghar ke bheetar n rahane paaega jo joott bolata haai vah mere samhane bana n rahega .. \n",
              "  bhor hee bhor ko maain desh ke sab dushtton ko satyanash kiya karoonga , isaaliye ki yahova ke nagar ke sab xxunk ko nash karoon .. \n",
              " ,xxbos he yahova , meree praarthna suna meree dohai tujh tak pahunche ! \n",
              "  mere sankatt ke din apana mukh mujh se n chhpai le apana kan meree or laga jis samay maain xxunk , usee samay faurtee se meree sun le ! \n",
              "  kyonaki mere din xxunk kee nain ude jate haai , aur meree xxunk xxunk ke saman jal gai haain . \n",
              "  mera man xxunk hui ghaas kee nain sookh gaya haai aur maain apanee rottee khana bool jata hoon . \n",
              "  xxunk xxunk mera chamada haaddiyon men satt gaya haai . \n",
              "  maain jangal ke xxunk ke saman ho gaya hoo , maain ujade sthanon ke ulloo ke saman ban gaya hoon . \n",
              "  maain pada pada jagata rahata hoon aur xxunk ke saman ho gaya hoon jo chht ke upar akela xxunk haai . \n",
              "  mere shatra lagatar meree namadharai karate haai , jo mere xxunk kee dhaun men xxunk ho rahe haai , ve mera nam lekar shapath khate haain . \n",
              "  kyonaki maain ne rottee kee nain rakh xxunk aur ansoo milakar panee peeta hoon . \n",
              "  yah tere krodha aur kop ke karan hua haai , xxunk too ne mujhe uttaya , aur fir xxunk diya haai . \n",
              "  meree ayu ddhlatee hui chhaya ke saman haai aur maain ap ghaas kee nain sookh chala hoon .. \n",
              "  parantu he yahova , too xxunk virajaman rahega aur jis nam se tera smaran hota haai , vah peeddhee se peeddhee tak bana rahega . \n",
              "  too uttkar siyyon par daya karega kyonaki us par anugrah karane ka ttharaya hu samay a pahuncha haai . \n",
              "  kyonaki tere das usake patthron ko chahate haai , aur usakee dhooli par taras khate haain . \n",
              "  isaliye xxunk yahova ke nam ka bhy manengee , aur prathvee ke sab raja tere pratap se xxunk . \n",
              "  kyonaki yahova ne siyyon ko fir basaya haai , aur vah apanee maahima ke sath dikhai deta haai \n",
              "  vah lachar kee praarthna kee or munh karata haai , aur unakee praarthna ko tuchchh naheen janata . \n",
              "  yah bat anevalee peeddhee ke liye xxunk jaaegee , aur aek jati jo xxunk jaaegee vahee yah kee stuati karegee . \n",
              "  kyonaki yahova ne apane unche aur pavitra sthan se drashtti karake svarga se prathvee kee or dekha haai , \n",
              "  taaki bandhauon ka xxunk sune , aur ghaat xxunk ke bandhan khole \n",
              "  aur siyyon men yahova ke nam ka varnn kiya jaa , aur yarooshalem men usakee stuati kee jaae \n",
              "  yah us samay hoga jab desh desha , aur rajy rajy ke log yahova kee xxunk karane ko ikatthe honge .. \n",
              "  us ne mujhe jeevan yatra men du : kh dekar , mere bal aur ayu ko xxunk . \n",
              "  maain ne kaha , he mere ishvar , mujhe adhaee ayu men n utta le , mere varsha peeddhee se peeddhee tak bane rahenge ! \n",
              "  aadi men too ne prathvee kee nev dalee , aur akash tere hathon ka banaya hua haai . \n",
              "  vah te nash hoga , parantu too bana rahega aur vah sab kapade ke saman purana ho jaaega . too usako vasr kee nai xxunk , aur vah to badal jaaega \n",
              "  parantu too vaheen haai , aur tere vasharen ka ant naheen hone ka . \n",
              "  tere dason kee santan banee rahegee aur unaka vansh tere samhane sthiar rahega .. \n",
              " ,xxbos he mere man , yahova ko dhany kaha aur jo kuchh mujh men haai , vah usake pavitra nam ko dhany kahe ! \n",
              "  he mere man , yahova ko dhany kah , aur usake kisee upakar ko n xxunk . \n",
              "  vahee to tere sab adharma ko kshama karata , aur tere sab xxunk ko changa karata haai , \n",
              "  vahee to tere praan ko nash hone se bacha leta haai , aur tere sir par karoona aur daya ka mukutt bandhata haai , \n",
              "  vahee to teree lalasa ko uttm xxunk se trapt karata haai , jis se teree javanee xxunk kee nain nai ho jatee haai .. \n",
              "  yahova sab pise huon ke liye dharma aur nyay ke kam karata haai . \n",
              "  us ne moosa ko apanee gaati , aur xxunk par apane kam pragatt kie . \n",
              "  yahova dayalu aur xxunk , vilamb se kop karanevala aur ati karoonamay haai . \n",
              "  vah sarvada xxunk karata n rahega , n usaka krodha sada ke liye bhdka rahega . \n",
              "  us ne hamare papon ke anusar ham se vyavahar naheen kiya , aur n hamare adharma ke kamon ke anusar ham ko badala diya haai . \n",
              "  jaaise akash prathvee ke upar uncha haai , vaaise hee usakee karoona usake dravaaiyon ke upar prabal haai . \n",
              "  xxunk xxunk se jitanee door haai , us ne hamare aparadhaen ko ham se utanee hee door kar diya haai . \n",
              "  jaaise pita apane balakon par daya karata haai , vaaise hee yahova apane dravaaiyon par daya karata haai . \n",
              "  xxunk vah hamaree srashtti janata haai aur usako smaran rahata haai ki manushy mittee hee haai .. \n",
              "  manushy kee ayu ghaas ke saman hotee haai , vah maaidan ke fool kee nain xxunk haai , \n",
              "  jo pavan lagate hee tthar naheen sakata , aur n vah apane sthan men fir milata haai . \n",
              "  parantu yahova kee karoona usake dravaaiyon par yug yug , aur usaka dharma unake xxunk - poton par bhee pragatt hota rahata haai , \n",
              "  arthata un par jo usakee vacha ka palan karate aur usake upadeshaen ko smaran karake un par chalate haain .. \n",
              "  yahova ne to apana sinhasan svarga men sthiar kiya haai , aur usaka rajy pooree sraashtti par haai . \n",
              "  he yahova ke xxunk , tum jo bade veer ho , aur usake vachan ke manane se usako poora karate ho usako dhany kaho ! \n",
              "  he yahova kee saree xxunk , he usake xxunk , tum jo usakee ichchha pooree karate ho , usako dhany kaho ! \n",
              "  he yahova kee saree srashtti , usake rajy ke sab sthanon men usako dhany kaho . he mere man , too yahova ko dhany kaha ! \n",
              " ,xxbos he mere man , too yahova ko dhany kaha ! he mere parameshvar yahova , too atyant mahan haai ! too vibhv aur aeeshvarya ka vasr xxunk huae haai , \n",
              "  jo ujiyale ko chadar kee nai xxunk rahata haai , aur akash ko tamboo ke saman tane rahata haai , \n",
              "  jo apanee xxunk kee xxunk jal men xxunk haai , aur meghaen ko apana rath banata haai , aur pavan ke pankhon par chalata haai , \n",
              "  jo xxunk ko apane doot , aur dhadhakatee ag ko apane xxunk banata haai .. \n",
              "  too ne prathvee ko usakee neev par sthiar kiya haai , taki vah kabhee n xxunk . \n",
              "  too ne usako gaahire sagar se ddhanp diya haai jaaise vasr se jal pahadon ke upar tthar gaya . \n",
              "  teree xxunk se vah bhag gaya tere garajane ka shabd sunate hee , vah xxunk karake bah gaya . \n",
              "  vah pahadon par chaddh gaya , aur xxunk ke marga se us sthan men utar gaya jise too ne usake liye taaiyar kiya tha . \n",
              "  too ne aek xxunk ttharaya jisako vah naheen xxunk sakata haai , aur n firakar sthl ko ddhanp sakata haai .. \n",
              "  too nalon men soton ko bahata haai ve pahadon ke beech se bahate haai , \n",
              "  un se maaidan ke sab xxunk - jantu jal peete haain jangalee gadahe bhee apanee pyas bujha lete haain . \n",
              "  unake pas akash ke pakshaee basera karate , aur xxunk ke beech men se bolate haain . \n",
              "  too apanee xxunk men se pahadon ko xxunk haai tere kamon ke fal se prathvee trapt rahatee haai .. \n",
              "  too pashuuon ke liye ghaas , aur manushyon ke kam ke liye xxunk xxunk haai , aur is reeti boomi se vah bhojana - vastuen utpann karata haai , \n",
              "  aur dakhmadha jis se manushy ka man anaandait hota haai , aur tel jis se usaka mukh chamakata haai , aur ann jis se vah xxunk jata haai . \n",
              "  yahova ke vraksha trapt rahate haai , arthata labanon ke devadar jo usee ke lagaae huae haain . \n",
              "  un men xxunk apane xxunk xxunk haain xxunk ka basera xxunk ke vrakshaen men hota haai . \n",
              "  unche pahad jangalee bakaron ke liye haain aur chattanen xxunk ke sharansthan haain . \n",
              "  us ne niyat xxunk ke liye chandrama ko banaya haai soorya apane ast hone ka samay janata haai . \n",
              "  too andhakar karata haai , tab rat ho jatee haai jis men van ke sab jeev jantu ghoomate firate haain . \n",
              "  javan sinh aher ke liye garajate haai , aur ishvar se apana ahar mangate haain . \n",
              "  soorya uday hote hee ve chale jate haain aur apanee xxunk men ja baaittte haain . \n",
              "  tab manushy apane kam ke liye aur sandhya tak parishram karane ke liye nikalata haai . \n",
              "  he yahova tere kam xxunk haain ! in sab vastuon ko too ne buaddh ise banaya haai prathvee teree sampaati se paripoorn haai . \n",
              "  isee prakar samudra bada aur bahut hee chauda haai , aur us men anaginit xxunk xxunk - jantu , kya chhotte , kya bade bhre pade haain . \n",
              "  us men jahaj bhee ate jate haai , aur xxunk bhee jise too ne vahan khelane ke liye banaya haai .. \n",
              "  in sab ko tera hee xxunk haai , ki too unaka ahar samay par diya kare . \n",
              "  too unhen deta he , ve chun lete haain too apanee xxunk xxunk haai aur ve uttm padarthon se trapt hote haain . \n",
              "  too mukh faer leta haai , aur ve ghabara jate haain too unakee sans le leta haai , aur unake praan choott jate haain aur mittee men fir mil jate haain . \n",
              "  fir too apanee or se sans bhejata haai , aur ve xxunk jate haain aur too dharatee ko naya kar deta haai .. \n",
              "  yahova kee maahima sada kal banee rahe , yahova apane kamon se xxunk hove ! \n",
              "  usakee draashtti hee se prathvee kanp xxunk haai , aur usake choote hee pahadon se dhauan nikalata haai . \n",
              "  maain jeevan bhr yahova ka geet gata rahoonga jab tak maain bana rahoonga tab tak apane parameshvar ka bhjan gata rahoonga . \n",
              "  mera dhyan karana , usako piry lage , kyonki maain to xxunk ke karan anaandait rahoonga . \n",
              "  xxunk log prathvee par se mitt jaae , aur dushtt log age ko n rahen ! he mere man yahova ko dhany kaha ! yah kee stuati karo ! \n",
              " \n",
              "y: LMLabelList\n",
              ",,,,\n",
              "Path: .;\n",
              "\n",
              "Valid: LabelList (162 items)\n",
              "x: LMTextList\n",
              "xxbos \n",
              " \n",
              "  xxmaj do dil mile hain sanam \n",
              "  xxmaj toote na pyaar ki kasam \n",
              "  xxmaj wada hai mera \n",
              "  xxmaj milke na xxunk ge hum \n",
              "  xxmaj rakhna wafa ka bharam \n",
              " \n",
              "  xxmaj ek pal juda rahe hum \n",
              "  xxmaj sadiyan bhee lagti hain kam \n",
              "  xxmaj tum paas rehna \n",
              "  xxmaj ab to khushi ho ya gham \n",
              "  xxmaj dil pe na karna sitam \n",
              " \n",
              "  xxmaj dil ne xxunk kia \n",
              "  xxmaj bin soche pyaar kia \n",
              "  xxmaj hona thaa jo ho gaya \n",
              "  xxmaj xxunk .. \n",
              " \n",
              "  xxmaj yeh dil ab tera ho gaya \n",
              "  xxmaj yeh tanha thaa yeh kho gaya \n",
              "  xxmaj tera yeh saath jo mila \n",
              "  xxmaj to har dhadkan nay yeh kaha \n",
              " \n",
              "  xxmaj xxunk naseeb main xxunk pyaar xxunk \n",
              "  xxmaj xxunk ... \n",
              " \n",
              "  xxmaj yeh dil ab tera ho gaya \n",
              "  xxmaj yeh tanha thaa yeh kho gaya \n",
              "  xxmaj tera yeh saath jo mila \n",
              "  xxmaj to har dhadkan nay yeh kaha \n",
              " \n",
              "  xxmaj kehte hain pyaar bhee nasha hai \n",
              "  xxmaj iska suroor hee juda hai \n",
              "  xxmaj masti hai teri akhiyon mein \n",
              "  xxmaj maine yeh jaam bhee piya hai \n",
              "  xxmaj jee chahta hai hosh na aaye \n",
              "  xxmaj saari umar beet jai \n",
              " \n",
              "  xxmaj dil ne xxunk kia \n",
              "  xxmaj bin soche pyaar kia \n",
              "  xxmaj hona thaa jo ho gaya \n",
              "  xxmaj xxunk .. \n",
              " \n",
              "  xxmaj mushkil hain pyaar ki raahein \n",
              "  xxmaj raste me hum kho na jaaye \n",
              "  xxmaj raahe wafa ke musafir \n",
              "  xxmaj manzil se durr ho na jaaye \n",
              "  xxmaj jee chahta hai hosh na aaye \n",
              "  xxmaj saari umar beet jai \n",
              " \n",
              " \n",
              "  xxmaj dil ne xxunk kia \n",
              "  xxmaj bin soche pyaar kia \n",
              "  xxmaj hona thaa jo ho gaya \n",
              "  xxmaj xxunk .. \n",
              " \n",
              "  xxmaj yeh dil ab tera ho gaya \n",
              "  xxmaj yeh tanha thaa yeh kho gaya \n",
              "  xxmaj tera yeh saath jo mila \n",
              "  xxmaj to har dhadkan nay yeh kaha \n",
              " \n",
              "  xxmaj do dil mile hain sanam \n",
              "  xxmaj toote na pyaar ki kasam \n",
              "  xxmaj wada hai mera \n",
              "  xxmaj milke na xxunk ge hum \n",
              "  xxmaj rakhna wafa ka bharam \n",
              " \n",
              "  xxmaj dil ne xxunk kia \n",
              "  xxmaj bin soche pyaar kia \n",
              "  xxmaj hona thaa jo ho gaya \n",
              "  xxmaj xxunk .. \n",
              " \n",
              "  xxmaj yeh dil ab tera ho gaya \n",
              "  xxmaj yeh tanha thaa yeh kho gaya \n",
              "  xxmaj tera yeh saath jo mila \n",
              "  xxmaj to har dhadkan nay yeh kaha ... \n",
              " \n",
              " ,xxbos \n",
              " \n",
              "  xxmaj hey maara , hey maara , haye maara .. \n",
              "  xxmaj hey maara , hey maara , o maara .. \n",
              "  xxmaj aha , oho .. \n",
              " \n",
              "  xxmaj maara re sixer , maara re four \n",
              "  xxmaj dekho toh dekho toh , apna yeh xxunk \n",
              "  xxmaj maara re sixer , maara re four \n",
              "  xxmaj dekho toh dekho toh , apna yeh xxunk \n",
              "  xxmaj arrey public toh public hai \n",
              "  xxmaj run maange more \n",
              "  xxmaj more xxwrep 4 more more .. \n",
              "  xxmaj yeh maara , yeh maara , hai maara , yeh maara \n",
              "  xxmaj aha , oho .. \n",
              " \n",
              "  xxmaj xxunk ke haath xxunk lage hain \n",
              "  xxmaj xxunk bhi saare xxunk lage hain \n",
              "  xxmaj xxunk maar aisa tu , xxunk maar aisa tu \n",
              "  xxmaj rocket ke jaisa tu \n",
              "  xxmaj xxunk pahuncha de la ho \n",
              "  xxmaj more more more more .. \n",
              "  xxmaj yeh maara , yeh maara , hai maara , yeh maara \n",
              " \n",
              "  xxmaj maara re sixer , maara re four \n",
              "  xxmaj dekho toh dekho toh , apna yeh xxunk \n",
              "  xxmaj public toh public hai , run maange more \n",
              "  xxmaj more more more more more .. \n",
              "  xxmaj aha , oho .. \n",
              " \n",
              " \n",
              "  xxmaj hum sab ki aankhein , tujh pe lagi hai \n",
              "  xxmaj har dil mein phir se umeedein jagi hain \n",
              "  xxmaj public hai sang tere , public hai sang tere \n",
              "  xxmaj barsa de rang tere , dikhla de palle ka zor \n",
              "  xxmaj four , more more more \n",
              "  xxmaj yeh maara , yeh maara , hai maara , yeh maara \n",
              " \n",
              "  xxmaj maara re sixer , maara re four \n",
              "  xxmaj are are dekho toh dekho toh , apna yeh xxunk \n",
              "  xxmaj maara re maara re sixer , maara re maara re four \n",
              "  xxmaj dekho toh dekho toh , apna yeh xxunk \n",
              "  xxmaj maara maara sixer , maara maara four \n",
              "  xxmaj dekho toh dekho toh , apna yeh xxunk \n",
              "  xxmaj aha , oho ... \n",
              " \n",
              " ,xxbos \n",
              " \n",
              "  xxmaj kaisi ye judaai hai \n",
              "  xxmaj aankh bhar meri aayi hai \n",
              "  xxmaj mera dil doob raha \n",
              "  xxmaj isse bas ab xxunk do \n",
              " \n",
              "  xxmaj ye pehli baar hua \n",
              "  xxmaj ye kyu ehsaas hua \n",
              "  xxmaj mera dil toot raha \n",
              "  xxmaj isse bas ab tootne do \n",
              " \n",
              "  xxmaj mujhe bas abb rone do \n",
              "  xxmaj iss gam ko behne do \n",
              "  xxmaj yeh sath jo chhoot raha \n",
              "  xxmaj isse aaj tootne do \n",
              " \n",
              "  xxmaj kaisi ye judaai hai \n",
              "  xxmaj aankh bhar meri aayi hai \n",
              "  xxmaj mera dil doob raha \n",
              "  xxmaj isse bas ab xxunk do \n",
              " \n",
              "  xxmaj khush rahen bas tu \n",
              "  xxmaj mere dil ki ye duaa hai \n",
              "  xxmaj khud se puchh le tu \n",
              "  xxmaj tere dil ki kya raza hai \n",
              "  xxmaj jaan lena meri \n",
              "  xxmaj tere dil me jo daba hai \n",
              "  xxmaj yeh to bata .. \n",
              "  xxmaj mujhse juda kyun hai \n",
              " \n",
              "  xxmaj ik baat sataati hai \n",
              "  xxmaj jab teri yaad aati hai \n",
              "  xxmaj kyu mujhse rooth gaya \n",
              "  xxmaj jaane kyun door gaya \n",
              " \n",
              " \n",
              "  xxmaj yeh pehli baar hua \n",
              "  xxmaj yeh kyu ehsaas hua \n",
              "  xxmaj jaane anjaane kyun \n",
              "  xxmaj mujhe tujhse pyar hua \n",
              " \n",
              "  xxmaj hase haste rota hoon \n",
              "  xxmaj rote rote hasta hoon \n",
              "  xxmaj phir khud se kehta hoon \n",
              "  xxmaj jo hona tha , ho hi gaya ... \n",
              " \n",
              " ,xxbos \n",
              " \n",
              "  xxmaj xxunk xxunk xxunk xxunk \n",
              "  xxmaj xxunk xxunk hil xxunk sab shake xxunk \n",
              " \n",
              "  xxmaj face to xxunk dharti xxunk \n",
              "  xxmaj top to xxunk kama xxunk \n",
              "  xxmaj xxunk xxunk xxunk xxunk \n",
              "  xxmaj xxunk xxunk xxunk xxunk \n",
              " \n",
              "  xxmaj xxunk .. xxmaj xxunk .. \n",
              "  xxmaj xxunk .. xxmaj xxunk .. \n",
              "  xxmaj xxunk xxunk xxunk naale \n",
              " \n",
              "  xxmaj heart xxunk dhol xxunk \n",
              "  xxmaj love xxunk double kasht bada xxunk \n",
              "  xxmaj ae body xxunk hot xxunk \n",
              "  xxmaj calling fire brigade bhi xxunk \n",
              "  xxmaj same to xxunk dil me xxunk \n",
              "  xxmaj top to xxunk kama xxunk \n",
              "  / \n",
              " \n",
              "  xxmaj xxunk xxunk xxunk xxunk \n",
              "  xxmaj xxunk xxunk xxunk xxunk \n",
              " \n",
              "  xxmaj xxunk .. xxmaj xxunk .. \n",
              "  xxmaj xxunk .. xxmaj xxunk .. \n",
              "  xxmaj xxunk xxunk xxunk naale ... \n",
              " \n",
              " ,xxbos \n",
              " \n",
              "  xxmaj ud gaye tote re \n",
              "  xxmaj tere to udd gaye tote re la la laa \n",
              "  xxmaj ud gaye tote re \n",
              "  xxmaj tere to udd gaye tote re la la laa \n",
              "  xxmaj ud gaye tote re \n",
              "  xxmaj tere to udd gaye tote re la la laa \n",
              " \n",
              "  xxmaj teri aankhon se huyi yaariyan \n",
              "  xxmaj chalte chalte yunhi \n",
              "  xxmaj meri aankhon ne teri aankhon se \n",
              "  xxmaj aap beeti kahi \n",
              "  xxmaj teri aankhon ke xxunk \n",
              "  xxmaj hum pagle se chal pade \n",
              "  xxmaj meri xxunk ab dil ke chakkar mein \n",
              "  xxmaj kuchh bhi na sunti hain \n",
              " \n",
              "  xxmaj dil yeh dhokha xxunk kar dega \n",
              "  xxmaj socha na tha \n",
              "  xxmaj itni yeh xxunk kar dega \n",
              "  xxmaj socha na tha \n",
              "  xxmaj aisi mushkil khadi kar dega \n",
              "  xxmaj socha na tha \n",
              " \n",
              "  xxmaj ud gaye tote re \n",
              "  xxmaj tere to ud gaye tote re la la laa \n",
              "  xxmaj ud gaye tote re \n",
              "  xxmaj tere to ud gaye tote re .. \n",
              " \n",
              "  xxmaj haan tere farebi hai \n",
              "  xxmaj aur hum xxunk bhi hain \n",
              "  xxmaj pyaar xxunk hum nahi jaante \n",
              "  xxmaj seedhe sadhe lagte ho \n",
              "  xxmaj phir kyun aise xxunk ho \n",
              "  xxmaj lagte hain nadaan se \n",
              " \n",
              "  xxmaj hmmm isse to maaf keeje wallah \n",
              "  xxmaj yeh dil zara sa hai xxunk \n",
              "  xxmaj iraade hain beimaan se \n",
              "  xxmaj dil yeh dhokha xxunk kar dega \n",
              "  xxmaj socha na tha \n",
              "  xxmaj itni yeh xxunk kar dega \n",
              "  xxmaj socha na tha \n",
              "  xxmaj aise mushkil khadi kar dega \n",
              "  xxmaj socha na tha \n",
              " \n",
              "  xxmaj ud gaye tote re \n",
              "  xxmaj tere to ud gaye tote re la la laa \n",
              "  xxmaj ud gaye tote re \n",
              "  xxmaj tere to ud gaye tote re la la laa .. \n",
              " \n",
              "  xxmaj mere xxunk mein kahin \n",
              "  xxmaj roshan xxunk se kahin \n",
              "  xxmaj xxunk teri aawaz hai \n",
              "  xxmaj zyada na hai yeh kahi \n",
              "  xxmaj chup bhi na hai yeh rahi \n",
              "  xxmaj aankhon ka yeh andaaz hai \n",
              " \n",
              " \n",
              "  xxmaj chalo xxunk ho gaya wallah \n",
              "  xxmaj nigaah mein dekho na xxunk \n",
              "  xxmaj khwabon pe tum chalna dheere se \n",
              " \n",
              "  xxmaj dil yeh dhokha xxunk kar dega \n",
              "  xxmaj socha na tha \n",
              "  xxmaj itni yeh xxunk kar dega \n",
              "  xxmaj socha na tha \n",
              "  xxmaj aise mushkil khadi kar dega \n",
              "  xxmaj socha na tha \n",
              " \n",
              "  xxmaj ud gaye tote re \n",
              "  xxmaj tere to ud gaye tote re la la laa \n",
              "  xxmaj ud gaye tote re \n",
              "  xxmaj tere to ud gaye tote re lala laa ... \n",
              " \n",
              " \n",
              "y: LMLabelList\n",
              ",,,,\n",
              "Path: .;\n",
              "\n",
              "Test: None"
            ]
          },
          "metadata": {
            "tags": []
          },
          "execution_count": 13
        }
      ]
    },
    {
      "cell_type": "code",
      "metadata": {
        "id": "0QFOGAVFh_xg",
        "colab_type": "code",
        "colab": {}
      },
      "source": [
        "ls"
      ],
      "execution_count": 0,
      "outputs": []
    },
    {
      "cell_type": "code",
      "metadata": {
        "id": "iT3-crENvZgp",
        "colab_type": "code",
        "colab": {}
      },
      "source": [
        "torch.save(data.label_list,f'hing_databunch')"
      ],
      "execution_count": 0,
      "outputs": []
    },
    {
      "cell_type": "code",
      "metadata": {
        "id": "WS9-CFfYfY8f",
        "colab_type": "code",
        "colab": {}
      },
      "source": [
        "data = load_data('./', f'hing_databunch', bs=bs)"
      ],
      "execution_count": 0,
      "outputs": []
    },
    {
      "cell_type": "code",
      "metadata": {
        "scrolled": false,
        "id": "miUJNuT1fY8h",
        "colab_type": "code",
        "colab": {}
      },
      "source": [
        "learn = language_model_learner(data, AWD_LSTM, drop_mult=0.5, pretrained=False).to_fp16()"
      ],
      "execution_count": 0,
      "outputs": []
    },
    {
      "cell_type": "code",
      "metadata": {
        "id": "itQROtHBfY8j",
        "colab_type": "code",
        "colab": {}
      },
      "source": [
        "lr = 1e-2\n",
        "lr *= bs/48  # Scale learning rate by batch size"
      ],
      "execution_count": 0,
      "outputs": []
    },
    {
      "cell_type": "code",
      "metadata": {
        "id": "3Sjypo1bfY8l",
        "colab_type": "code",
        "outputId": "00faa838-1ac0-4d84-fe67-63a1da676e74",
        "colab": {
          "base_uri": "https://localhost:8080/",
          "height": 359
        }
      },
      "source": [
        "learn.unfreeze()\n",
        "learn.fit_one_cycle(10, lr, moms=(0.8,0.7))"
      ],
      "execution_count": 0,
      "outputs": [
        {
          "output_type": "display_data",
          "data": {
            "text/html": [
              "<table border=\"1\" class=\"dataframe\">\n",
              "  <thead>\n",
              "    <tr style=\"text-align: left;\">\n",
              "      <th>epoch</th>\n",
              "      <th>train_loss</th>\n",
              "      <th>valid_loss</th>\n",
              "      <th>accuracy</th>\n",
              "      <th>time</th>\n",
              "    </tr>\n",
              "  </thead>\n",
              "  <tbody>\n",
              "    <tr>\n",
              "      <td>0</td>\n",
              "      <td>6.164788</td>\n",
              "      <td>5.515339</td>\n",
              "      <td>0.196063</td>\n",
              "      <td>00:14</td>\n",
              "    </tr>\n",
              "    <tr>\n",
              "      <td>1</td>\n",
              "      <td>5.367682</td>\n",
              "      <td>5.143559</td>\n",
              "      <td>0.214286</td>\n",
              "      <td>00:14</td>\n",
              "    </tr>\n",
              "    <tr>\n",
              "      <td>2</td>\n",
              "      <td>4.878568</td>\n",
              "      <td>5.142776</td>\n",
              "      <td>0.200487</td>\n",
              "      <td>00:14</td>\n",
              "    </tr>\n",
              "    <tr>\n",
              "      <td>3</td>\n",
              "      <td>4.562285</td>\n",
              "      <td>4.895526</td>\n",
              "      <td>0.233644</td>\n",
              "      <td>00:14</td>\n",
              "    </tr>\n",
              "    <tr>\n",
              "      <td>4</td>\n",
              "      <td>4.345930</td>\n",
              "      <td>4.842293</td>\n",
              "      <td>0.239174</td>\n",
              "      <td>00:14</td>\n",
              "    </tr>\n",
              "    <tr>\n",
              "      <td>5</td>\n",
              "      <td>4.092640</td>\n",
              "      <td>4.809715</td>\n",
              "      <td>0.246703</td>\n",
              "      <td>00:14</td>\n",
              "    </tr>\n",
              "    <tr>\n",
              "      <td>6</td>\n",
              "      <td>3.836107</td>\n",
              "      <td>4.778935</td>\n",
              "      <td>0.252354</td>\n",
              "      <td>00:14</td>\n",
              "    </tr>\n",
              "    <tr>\n",
              "      <td>7</td>\n",
              "      <td>3.550671</td>\n",
              "      <td>4.769094</td>\n",
              "      <td>0.255276</td>\n",
              "      <td>00:14</td>\n",
              "    </tr>\n",
              "    <tr>\n",
              "      <td>8</td>\n",
              "      <td>3.299794</td>\n",
              "      <td>4.779555</td>\n",
              "      <td>0.257488</td>\n",
              "      <td>00:14</td>\n",
              "    </tr>\n",
              "    <tr>\n",
              "      <td>9</td>\n",
              "      <td>3.140555</td>\n",
              "      <td>4.798904</td>\n",
              "      <td>0.256849</td>\n",
              "      <td>00:14</td>\n",
              "    </tr>\n",
              "  </tbody>\n",
              "</table>"
            ],
            "text/plain": [
              "<IPython.core.display.HTML object>"
            ]
          },
          "metadata": {
            "tags": []
          }
        }
      ]
    },
    {
      "cell_type": "markdown",
      "metadata": {
        "id": "_llifKrifY8o",
        "colab_type": "text"
      },
      "source": [
        "Save the pretrained model and vocab:"
      ]
    },
    {
      "cell_type": "code",
      "metadata": {
        "id": "qwlZeqo7fY8q",
        "colab_type": "code",
        "colab": {}
      },
      "source": [
        "mdl_path = Path('../../models')\n",
        "mdl_path.mkdir(exist_ok=True)\n",
        "learn.to_fp32().save(lm_fns[0], with_opt=False)\n",
        "learn.data.vocab.save(mdl_path/(lm_fns[1] + '.pkl'))"
      ],
      "execution_count": 0,
      "outputs": []
    },
    {
      "cell_type": "code",
      "metadata": {
        "id": "frc_0focdKmy",
        "colab_type": "code",
        "outputId": "3ac593ae-6a38-4cf4-94d8-3906b23523d0",
        "colab": {
          "base_uri": "https://localhost:8080/",
          "height": 34
        }
      },
      "source": [
        "mdl_path"
      ],
      "execution_count": 0,
      "outputs": [
        {
          "output_type": "execute_result",
          "data": {
            "text/plain": [
              "PosixPath('../../models')"
            ]
          },
          "metadata": {
            "tags": []
          },
          "execution_count": 28
        }
      ]
    },
    {
      "cell_type": "markdown",
      "metadata": {
        "id": "PCcygLKofY8t",
        "colab_type": "text"
      },
      "source": [
        "## Hindi sentiment analysis"
      ]
    },
    {
      "cell_type": "markdown",
      "metadata": {
        "id": "1mE9r_eZfY8u",
        "colab_type": "text"
      },
      "source": [
        "### Language model"
      ]
    },
    {
      "cell_type": "code",
      "metadata": {
        "id": "iw61ynZHyRlW",
        "colab_type": "code",
        "outputId": "0cea5a0e-2a77-4b8f-bc09-97e5708f6dd2",
        "colab": {
          "base_uri": "https://localhost:8080/",
          "height": 34
        }
      },
      "source": [
        "cd preprocessing"
      ],
      "execution_count": 0,
      "outputs": [
        {
          "output_type": "stream",
          "text": [
            "/drive/My Drive/hinglish/preprocessing\n"
          ],
          "name": "stdout"
        }
      ]
    },
    {
      "cell_type": "code",
      "metadata": {
        "id": "V2pRefgXwins",
        "colab_type": "code",
        "outputId": "c207c545-4ce1-43a4-950d-62a9e8ab2110",
        "colab": {
          "base_uri": "https://localhost:8080/",
          "height": 34
        }
      },
      "source": [
        "cd drive/My\\ Drive"
      ],
      "execution_count": 0,
      "outputs": [
        {
          "output_type": "stream",
          "text": [
            "/content/drive/My Drive\n"
          ],
          "name": "stdout"
        }
      ]
    },
    {
      "cell_type": "code",
      "metadata": {
        "id": "dsMQln2UwyyI",
        "colab_type": "code",
        "outputId": "40afeb1c-3b31-451e-bf20-dde07c627e4f",
        "colab": {
          "base_uri": "https://localhost:8080/",
          "height": 51
        }
      },
      "source": [
        "cd hinglish"
      ],
      "execution_count": 0,
      "outputs": [
        {
          "output_type": "stream",
          "text": [
            "[Errno 2] No such file or directory: 'hinglish'\n",
            "/content/drive/My Drive\n"
          ],
          "name": "stdout"
        }
      ]
    },
    {
      "cell_type": "code",
      "metadata": {
        "id": "JH4U-WC6fY8x",
        "colab_type": "code",
        "outputId": "06db6cd0-ddce-4c65-c558-149df8a294d9",
        "colab": {
          "base_uri": "https://localhost:8080/",
          "height": 204
        }
      },
      "source": [
        "train_df = pd.read_csv('./preprocessing/tweets_train.csv', names=['label','comment'])\n",
        "train_df.loc[pd.isna(train_df.comment),'comment']='NA'\n",
        "train_df.head()"
      ],
      "execution_count": 0,
      "outputs": [
        {
          "output_type": "execute_result",
          "data": {
            "text/html": [
              "<div>\n",
              "<style scoped>\n",
              "    .dataframe tbody tr th:only-of-type {\n",
              "        vertical-align: middle;\n",
              "    }\n",
              "\n",
              "    .dataframe tbody tr th {\n",
              "        vertical-align: top;\n",
              "    }\n",
              "\n",
              "    .dataframe thead th {\n",
              "        text-align: right;\n",
              "    }\n",
              "</style>\n",
              "<table border=\"1\" class=\"dataframe\">\n",
              "  <thead>\n",
              "    <tr style=\"text-align: right;\">\n",
              "      <th></th>\n",
              "      <th>label</th>\n",
              "      <th>comment</th>\n",
              "    </tr>\n",
              "  </thead>\n",
              "  <tbody>\n",
              "    <tr>\n",
              "      <th>0</th>\n",
              "      <td>1</td>\n",
              "      <td>@ adilnisarbutt Pakistan of ghra tauq he Pakis...</td>\n",
              "    </tr>\n",
              "    <tr>\n",
              "      <th>1</th>\n",
              "      <td>1</td>\n",
              "      <td>motherfucker mulle  mathura me other than(icl&gt;...</td>\n",
              "    </tr>\n",
              "    <tr>\n",
              "      <th>2</th>\n",
              "      <td>0</td>\n",
              "      <td>@ narendramodi manya stellar minister(icl&gt;huma...</td>\n",
              "    </tr>\n",
              "    <tr>\n",
              "      <th>3</th>\n",
              "      <td>0</td>\n",
              "      <td>@ Atheist _ Krishna Jcb full trend me travelli...</td>\n",
              "    </tr>\n",
              "    <tr>\n",
              "      <th>4</th>\n",
              "      <td>0</td>\n",
              "      <td>@ abhisharsharma _ @ ravishkumarblog Loksabha ...</td>\n",
              "    </tr>\n",
              "  </tbody>\n",
              "</table>\n",
              "</div>"
            ],
            "text/plain": [
              "   label                                            comment\n",
              "0      1  @ adilnisarbutt Pakistan of ghra tauq he Pakis...\n",
              "1      1  motherfucker mulle  mathura me other than(icl>...\n",
              "2      0  @ narendramodi manya stellar minister(icl>huma...\n",
              "3      0  @ Atheist _ Krishna Jcb full trend me travelli...\n",
              "4      0  @ abhisharsharma _ @ ravishkumarblog Loksabha ..."
            ]
          },
          "metadata": {
            "tags": []
          },
          "execution_count": 88
        }
      ]
    },
    {
      "cell_type": "code",
      "metadata": {
        "id": "ulRfUAbJfY80",
        "colab_type": "code",
        "outputId": "cb477e30-8853-4fd0-ca2f-ae7a2be7411c",
        "colab": {
          "base_uri": "https://localhost:8080/",
          "height": 204
        }
      },
      "source": [
        "test_df = pd.read_csv('./preprocessing/tweets_val.csv', names=['label','comment'])\n",
        "test_df.loc[pd.isna(test_df.comment),'comment']='NA'\n",
        "test_df.head()"
      ],
      "execution_count": 0,
      "outputs": [
        {
          "output_type": "execute_result",
          "data": {
            "text/html": [
              "<div>\n",
              "<style scoped>\n",
              "    .dataframe tbody tr th:only-of-type {\n",
              "        vertical-align: middle;\n",
              "    }\n",
              "\n",
              "    .dataframe tbody tr th {\n",
              "        vertical-align: top;\n",
              "    }\n",
              "\n",
              "    .dataframe thead th {\n",
              "        text-align: right;\n",
              "    }\n",
              "</style>\n",
              "<table border=\"1\" class=\"dataframe\">\n",
              "  <thead>\n",
              "    <tr style=\"text-align: right;\">\n",
              "      <th></th>\n",
              "      <th>label</th>\n",
              "      <th>comment</th>\n",
              "    </tr>\n",
              "  </thead>\n",
              "  <tbody>\n",
              "    <tr>\n",
              "      <th>0</th>\n",
              "      <td>0</td>\n",
              "      <td>@ prahladspatel modi mantrimandal may samil ho...</td>\n",
              "    </tr>\n",
              "    <tr>\n",
              "      <th>1</th>\n",
              "      <td>1</td>\n",
              "      <td>@ bkunalraj @ TajinderBagga @ NikhilJakhar14 @...</td>\n",
              "    </tr>\n",
              "    <tr>\n",
              "      <th>2</th>\n",
              "      <td>1</td>\n",
              "      <td>@ waglenikhil U saw caste and religion in them...</td>\n",
              "    </tr>\n",
              "    <tr>\n",
              "      <th>3</th>\n",
              "      <td>2</td>\n",
              "      <td>@ DelhiPolice sir local police station pe comp...</td>\n",
              "    </tr>\n",
              "    <tr>\n",
              "      <th>4</th>\n",
              "      <td>0</td>\n",
              "      <td>Ve Maahi song from # Kesari is current favouri...</td>\n",
              "    </tr>\n",
              "  </tbody>\n",
              "</table>\n",
              "</div>"
            ],
            "text/plain": [
              "   label                                            comment\n",
              "0      0  @ prahladspatel modi mantrimandal may samil ho...\n",
              "1      1  @ bkunalraj @ TajinderBagga @ NikhilJakhar14 @...\n",
              "2      1  @ waglenikhil U saw caste and religion in them...\n",
              "3      2  @ DelhiPolice sir local police station pe comp...\n",
              "4      0  Ve Maahi song from # Kesari is current favouri..."
            ]
          },
          "metadata": {
            "tags": []
          },
          "execution_count": 89
        }
      ]
    },
    {
      "cell_type": "code",
      "metadata": {
        "id": "W6v4XrIHfY83",
        "colab_type": "code",
        "colab": {}
      },
      "source": [
        "df = pd.concat([train_df,test_df], sort=False)"
      ],
      "execution_count": 0,
      "outputs": []
    },
    {
      "cell_type": "code",
      "metadata": {
        "id": "GEpbW7SGfY86",
        "colab_type": "code",
        "outputId": "ae937e51-9c4c-4f49-8b52-93f43628a69e",
        "colab": {
          "base_uri": "https://localhost:8080/",
          "height": 17
        }
      },
      "source": [
        "data_lm = (TextList.from_df(df, cols='comment')\n",
        "    .split_by_rand_pct(0.1, seed=42)\n",
        "    .label_for_lm()           \n",
        "    .databunch(bs=bs, num_workers=1))"
      ],
      "execution_count": 0,
      "outputs": [
        {
          "output_type": "display_data",
          "data": {
            "text/html": [
              ""
            ],
            "text/plain": [
              "<IPython.core.display.HTML object>"
            ]
          },
          "metadata": {
            "tags": []
          }
        },
        {
          "output_type": "display_data",
          "data": {
            "text/html": [
              ""
            ],
            "text/plain": [
              "<IPython.core.display.HTML object>"
            ]
          },
          "metadata": {
            "tags": []
          }
        }
      ]
    },
    {
      "cell_type": "code",
      "metadata": {
        "id": "1qDEfLtbmQqz",
        "colab_type": "code",
        "colab": {}
      },
      "source": [
        "data_lm.show_batch()"
      ],
      "execution_count": 0,
      "outputs": []
    },
    {
      "cell_type": "code",
      "metadata": {
        "id": "Wyf-lFaofY88",
        "colab_type": "code",
        "colab": {}
      },
      "source": [
        "learn_lm = language_model_learner(data_lm, AWD_LSTM, drop_mult=1.0)"
      ],
      "execution_count": 0,
      "outputs": []
    },
    {
      "cell_type": "code",
      "metadata": {
        "id": "x4CxA-rZfY8-",
        "colab_type": "code",
        "colab": {}
      },
      "source": [
        "lr = 1e-3\n",
        "lr *= bs/48"
      ],
      "execution_count": 0,
      "outputs": []
    },
    {
      "cell_type": "code",
      "metadata": {
        "id": "L_wVkamQfY9A",
        "colab_type": "code",
        "outputId": "d204b6cc-f8df-48fa-8858-94ea541f32d4",
        "colab": {
          "base_uri": "https://localhost:8080/",
          "height": 111
        }
      },
      "source": [
        "learn_lm.fit_one_cycle(2, lr*10, moms=(0.8,0.7))"
      ],
      "execution_count": 0,
      "outputs": [
        {
          "output_type": "display_data",
          "data": {
            "text/html": [
              "<table border=\"1\" class=\"dataframe\">\n",
              "  <thead>\n",
              "    <tr style=\"text-align: left;\">\n",
              "      <th>epoch</th>\n",
              "      <th>train_loss</th>\n",
              "      <th>valid_loss</th>\n",
              "      <th>accuracy</th>\n",
              "      <th>time</th>\n",
              "    </tr>\n",
              "  </thead>\n",
              "  <tbody>\n",
              "    <tr>\n",
              "      <td>0</td>\n",
              "      <td>3.159609</td>\n",
              "      <td>3.175763</td>\n",
              "      <td>0.488072</td>\n",
              "      <td>00:29</td>\n",
              "    </tr>\n",
              "    <tr>\n",
              "      <td>1</td>\n",
              "      <td>3.089824</td>\n",
              "      <td>3.104636</td>\n",
              "      <td>0.494169</td>\n",
              "      <td>00:31</td>\n",
              "    </tr>\n",
              "  </tbody>\n",
              "</table>"
            ],
            "text/plain": [
              "<IPython.core.display.HTML object>"
            ]
          },
          "metadata": {
            "tags": []
          }
        }
      ]
    },
    {
      "cell_type": "code",
      "metadata": {
        "id": "mpvEGr1ZfY9G",
        "colab_type": "code",
        "outputId": "54399644-1910-41f0-f5c9-273473cbc8f6",
        "colab": {
          "base_uri": "https://localhost:8080/",
          "height": 359
        }
      },
      "source": [
        "learn_lm.unfreeze()\n",
        "learn_lm.fit_one_cycle(10, lr, moms=(0.8,0.7))"
      ],
      "execution_count": 0,
      "outputs": [
        {
          "output_type": "display_data",
          "data": {
            "text/html": [
              "<table border=\"1\" class=\"dataframe\">\n",
              "  <thead>\n",
              "    <tr style=\"text-align: left;\">\n",
              "      <th>epoch</th>\n",
              "      <th>train_loss</th>\n",
              "      <th>valid_loss</th>\n",
              "      <th>accuracy</th>\n",
              "      <th>time</th>\n",
              "    </tr>\n",
              "  </thead>\n",
              "  <tbody>\n",
              "    <tr>\n",
              "      <td>0</td>\n",
              "      <td>2.022235</td>\n",
              "      <td>2.837075</td>\n",
              "      <td>0.537863</td>\n",
              "      <td>00:31</td>\n",
              "    </tr>\n",
              "    <tr>\n",
              "      <td>1</td>\n",
              "      <td>2.044690</td>\n",
              "      <td>2.836151</td>\n",
              "      <td>0.539076</td>\n",
              "      <td>00:32</td>\n",
              "    </tr>\n",
              "    <tr>\n",
              "      <td>2</td>\n",
              "      <td>2.073606</td>\n",
              "      <td>2.836092</td>\n",
              "      <td>0.537723</td>\n",
              "      <td>00:31</td>\n",
              "    </tr>\n",
              "    <tr>\n",
              "      <td>3</td>\n",
              "      <td>2.047472</td>\n",
              "      <td>2.824348</td>\n",
              "      <td>0.542118</td>\n",
              "      <td>00:31</td>\n",
              "    </tr>\n",
              "    <tr>\n",
              "      <td>4</td>\n",
              "      <td>1.977758</td>\n",
              "      <td>2.812091</td>\n",
              "      <td>0.545243</td>\n",
              "      <td>00:32</td>\n",
              "    </tr>\n",
              "    <tr>\n",
              "      <td>5</td>\n",
              "      <td>1.924527</td>\n",
              "      <td>2.809290</td>\n",
              "      <td>0.549986</td>\n",
              "      <td>00:31</td>\n",
              "    </tr>\n",
              "    <tr>\n",
              "      <td>6</td>\n",
              "      <td>1.841254</td>\n",
              "      <td>2.821300</td>\n",
              "      <td>0.550446</td>\n",
              "      <td>00:31</td>\n",
              "    </tr>\n",
              "    <tr>\n",
              "      <td>7</td>\n",
              "      <td>1.775361</td>\n",
              "      <td>2.813560</td>\n",
              "      <td>0.553599</td>\n",
              "      <td>00:31</td>\n",
              "    </tr>\n",
              "    <tr>\n",
              "      <td>8</td>\n",
              "      <td>1.720628</td>\n",
              "      <td>2.818758</td>\n",
              "      <td>0.554227</td>\n",
              "      <td>00:32</td>\n",
              "    </tr>\n",
              "    <tr>\n",
              "      <td>9</td>\n",
              "      <td>1.688678</td>\n",
              "      <td>2.822581</td>\n",
              "      <td>0.554688</td>\n",
              "      <td>00:31</td>\n",
              "    </tr>\n",
              "  </tbody>\n",
              "</table>"
            ],
            "text/plain": [
              "<IPython.core.display.HTML object>"
            ]
          },
          "metadata": {
            "tags": []
          }
        }
      ]
    },
    {
      "cell_type": "code",
      "metadata": {
        "id": "cdJcO2LLlxeI",
        "colab_type": "code",
        "outputId": "9755ebf4-a8c8-4ecf-c286-451e0300db2d",
        "colab": {
          "base_uri": "https://localhost:8080/",
          "height": 34
        }
      },
      "source": [
        "pwd"
      ],
      "execution_count": 0,
      "outputs": [
        {
          "output_type": "execute_result",
          "data": {
            "text/plain": [
              "'/content/drive/My Drive/hinglish'"
            ]
          },
          "metadata": {
            "tags": []
          },
          "execution_count": 67
        }
      ]
    },
    {
      "cell_type": "code",
      "metadata": {
        "id": "t3E_mQhhfY9J",
        "colab_type": "code",
        "colab": {}
      },
      "source": [
        "learn_lm.save('hing_fine_tuned')\n",
        "learn_lm.save_encoder('hing_fine_tuned_enc')"
      ],
      "execution_count": 0,
      "outputs": []
    },
    {
      "cell_type": "markdown",
      "metadata": {
        "id": "MNQoQDNbfY9L",
        "colab_type": "text"
      },
      "source": [
        "### Classifier"
      ]
    },
    {
      "cell_type": "code",
      "metadata": {
        "id": "6-hvSFpy20yQ",
        "colab_type": "code",
        "outputId": "59d299c7-eaf4-488b-f1dd-2e4fce3853e6",
        "colab": {
          "base_uri": "https://localhost:8080/",
          "height": 187
        }
      },
      "source": [
        "data_lm.vocab.itos[:10]"
      ],
      "execution_count": 0,
      "outputs": [
        {
          "output_type": "execute_result",
          "data": {
            "text/plain": [
              "['xxunk',\n",
              " 'xxpad',\n",
              " 'xxbos',\n",
              " 'xxeos',\n",
              " 'xxfld',\n",
              " 'xxmaj',\n",
              " 'xxup',\n",
              " 'xxrep',\n",
              " 'xxwrep',\n",
              " '>']"
            ]
          },
          "metadata": {
            "tags": []
          },
          "execution_count": 69
        }
      ]
    },
    {
      "cell_type": "code",
      "metadata": {
        "id": "Csd61ib7fY9M",
        "colab_type": "code",
        "outputId": "e02c37e6-5925-467e-b47a-7decff161b7b",
        "colab": {
          "base_uri": "https://localhost:8080/",
          "height": 17
        }
      },
      "source": [
        "data_clas = (TextList.from_df(df, vocab=data_lm.vocab, cols='comment')\n",
        "    .split_by_rand_pct(0.1, seed=42)\n",
        "    .label_from_df(cols='label')\n",
        "    .databunch(bs=bs, num_workers=1))\n",
        "\n",
        "data_clas.save('hing_textlist_class')"
      ],
      "execution_count": 0,
      "outputs": [
        {
          "output_type": "display_data",
          "data": {
            "text/html": [
              ""
            ],
            "text/plain": [
              "<IPython.core.display.HTML object>"
            ]
          },
          "metadata": {
            "tags": []
          }
        },
        {
          "output_type": "display_data",
          "data": {
            "text/html": [
              ""
            ],
            "text/plain": [
              "<IPython.core.display.HTML object>"
            ]
          },
          "metadata": {
            "tags": []
          }
        }
      ]
    },
    {
      "cell_type": "code",
      "metadata": {
        "id": "xw7qjNFV8DVm",
        "colab_type": "code",
        "outputId": "b4c39701-c309-44c4-afea-4812f80882ad",
        "colab": {
          "base_uri": "https://localhost:8080/",
          "height": 326
        }
      },
      "source": [
        "data_clas"
      ],
      "execution_count": 0,
      "outputs": [
        {
          "output_type": "execute_result",
          "data": {
            "text/plain": [
              "TextClasDataBunch;\n",
              "\n",
              "Train: LabelList (16318 items)\n",
              "x: TextList\n",
              "xxbos @ xxunk xxmaj pakistan of ghra xxunk he xxmaj pakistan xxmaj israel ko xxunk xxunk kerta palestine kehta he - xxunk palestine,xxbos motherfucker mulle mathura me other than(icl > not ) dikha tha mullo ne hindu on(fld > date ) iss liye mara ki xxunk ki paise mug(icl > drinking vessel ) liye the … https / / t . co / xxunk,xxbos @ narendramodi manya stellar minister(icl > human ) mahoday shriman narendra modi heart(icl > feel ) prime minister(icl > minister ) banne hardik greeting tahe ticker … https / / t . co / xxunk,xxbos @ xxunk _ @ ravishkumarblog xxmaj loksabha me public sirf modi on(fld > date ) vote(icl > thing ) de rahi thi season(agt > human equ > accustom gol > circumstances obj > human ) ki mp or xxup bjp ko without m … https / / t . co / xxunk,xxbos @ xxunk @ xxunk @ cricketworldcup xxmaj bhosdike xxunk ki shit only(icl > very ) rahoge sister fucker\n",
              "y: CategoryList\n",
              "1,1,0,0,1\n",
              "Path: .;\n",
              "\n",
              "Valid: LabelList (1813 items)\n",
              "x: TextList\n",
              "xxbos * a guy tweets * xxmaj can someone suggest me good xxunk books ? xxmaj xxunk xxmaj google commission(icl > action ) sale chutiye xxunk xxunk kahi au … https / / t . co / xxunk,xxbos @ vinodkapri those(icl > ) police wale bhe aukat xxunk musalman dalit per he dekhate have(icl > be ) . season(agt > human equ > accustom gol > circumstances obj > human ) jane enko bhagwa gu … https / / t . co / xxunk,xxbos @ muglikar _ xxunk ki madam ne . xxmaj waise exit poll k after(icl > how ) only(icl > very ) ne chhoda other than(icl > not ) hoga . xxmaj results k bad to xxunk lag gyi hogi .,xxbos rt @ xxunk xxmaj during my recent visit to xxmaj varanasi got to know about famous xxunk k laddoo ( xxunk के xxunk ) from xxmaj xxunk . xxmaj thanks to my …,xxbos @ indiatoday @ officeofknath unerring hoga sayad tabhi sirf appki channel over(aoj > communication channel ) dikh raha have(icl > be ) warna xxunk media … https / / t co / xxunk\n",
              "y: CategoryList\n",
              "2,2,2,2,2\n",
              "Path: .;\n",
              "\n",
              "Test: None"
            ]
          },
          "metadata": {
            "tags": []
          },
          "execution_count": 123
        }
      ]
    },
    {
      "cell_type": "code",
      "metadata": {
        "id": "KYKMaz44fY9O",
        "colab_type": "code",
        "colab": {}
      },
      "source": [
        "data_clas = load_data('./', f'{lang}_textlist_class', bs=bs, num_workers=1)"
      ],
      "execution_count": 0,
      "outputs": []
    },
    {
      "cell_type": "code",
      "metadata": {
        "id": "VoD-WSmDfY9Q",
        "colab_type": "code",
        "colab": {}
      },
      "source": [
        "from sklearn.metrics import f1_score\n",
        "\n",
        "@np_func\n",
        "def f1(inp,targ): return f1_score(targ, np.argmax(inp, axis=-1), average='weighted')"
      ],
      "execution_count": 0,
      "outputs": []
    },
    {
      "cell_type": "code",
      "metadata": {
        "id": "J78YbReMCT-z",
        "colab_type": "code",
        "outputId": "e6c1715c-9288-4474-f2fc-6ff386e59959",
        "colab": {
          "base_uri": "https://localhost:8080/",
          "height": 34
        }
      },
      "source": [
        "cd ../../"
      ],
      "execution_count": 0,
      "outputs": [
        {
          "output_type": "stream",
          "text": [
            "/content/drive/My Drive/hinglish\n"
          ],
          "name": "stdout"
        }
      ]
    },
    {
      "cell_type": "code",
      "metadata": {
        "id": "oaoxYjFbp9SL",
        "colab_type": "code",
        "colab": {}
      },
      "source": [
        "cp ./models/ preprocessing/ -r"
      ],
      "execution_count": 0,
      "outputs": []
    },
    {
      "cell_type": "code",
      "metadata": {
        "id": "TzB-zVRmfY9S",
        "colab_type": "code",
        "colab": {}
      },
      "source": [
        "learn_c = text_classifier_learner(data_clas, AWD_LSTM, drop_mult=0.5, metrics=[accuracy,f1]).to_fp16()\n",
        "learn_c.load_encoder('hing_fine_tuned_enc')\n",
        "learn_c.freeze()"
      ],
      "execution_count": 0,
      "outputs": []
    },
    {
      "cell_type": "code",
      "metadata": {
        "id": "1fbEdvvXfY9U",
        "colab_type": "code",
        "colab": {}
      },
      "source": [
        "lr=2e-2\n",
        "lr *= bs/48"
      ],
      "execution_count": 0,
      "outputs": []
    },
    {
      "cell_type": "code",
      "metadata": {
        "scrolled": false,
        "id": "G-3jweRKfY9W",
        "colab_type": "code",
        "outputId": "3f5949b0-8e2e-4616-d03d-3de460e3b0a7",
        "colab": {
          "base_uri": "https://localhost:8080/",
          "height": 111
        }
      },
      "source": [
        "learn_c.fit_one_cycle(2, lr, moms=(0.8,0.7))"
      ],
      "execution_count": 0,
      "outputs": [
        {
          "output_type": "display_data",
          "data": {
            "text/html": [
              "<table border=\"1\" class=\"dataframe\">\n",
              "  <thead>\n",
              "    <tr style=\"text-align: left;\">\n",
              "      <th>epoch</th>\n",
              "      <th>train_loss</th>\n",
              "      <th>valid_loss</th>\n",
              "      <th>accuracy</th>\n",
              "      <th>f1</th>\n",
              "      <th>time</th>\n",
              "    </tr>\n",
              "  </thead>\n",
              "  <tbody>\n",
              "    <tr>\n",
              "      <td>0</td>\n",
              "      <td>1.240968</td>\n",
              "      <td>1.089488</td>\n",
              "      <td>0.344349</td>\n",
              "      <td>0.223348</td>\n",
              "      <td>00:02</td>\n",
              "    </tr>\n",
              "    <tr>\n",
              "      <td>1</td>\n",
              "      <td>1.105175</td>\n",
              "      <td>1.079749</td>\n",
              "      <td>0.389293</td>\n",
              "      <td>0.251038</td>\n",
              "      <td>00:02</td>\n",
              "    </tr>\n",
              "  </tbody>\n",
              "</table>"
            ],
            "text/plain": [
              "<IPython.core.display.HTML object>"
            ]
          },
          "metadata": {
            "tags": []
          }
        }
      ]
    },
    {
      "cell_type": "code",
      "metadata": {
        "scrolled": false,
        "id": "UV8bjXQqfY9Y",
        "colab_type": "code",
        "outputId": "2a219085-5cdf-447b-e1d5-afa6d86c3f92",
        "colab": {
          "base_uri": "https://localhost:8080/",
          "height": 111
        }
      },
      "source": [
        "learn_c.fit_one_cycle(2, lr, moms=(0.8,0.7))"
      ],
      "execution_count": 0,
      "outputs": [
        {
          "output_type": "display_data",
          "data": {
            "text/html": [
              "<table border=\"1\" class=\"dataframe\">\n",
              "  <thead>\n",
              "    <tr style=\"text-align: left;\">\n",
              "      <th>epoch</th>\n",
              "      <th>train_loss</th>\n",
              "      <th>valid_loss</th>\n",
              "      <th>accuracy</th>\n",
              "      <th>f1</th>\n",
              "      <th>time</th>\n",
              "    </tr>\n",
              "  </thead>\n",
              "  <tbody>\n",
              "    <tr>\n",
              "      <td>0</td>\n",
              "      <td>0.863361</td>\n",
              "      <td>0.858150</td>\n",
              "      <td>0.596249</td>\n",
              "      <td>0.588790</td>\n",
              "      <td>00:03</td>\n",
              "    </tr>\n",
              "    <tr>\n",
              "      <td>1</td>\n",
              "      <td>0.841808</td>\n",
              "      <td>0.788579</td>\n",
              "      <td>0.623276</td>\n",
              "      <td>0.621189</td>\n",
              "      <td>00:03</td>\n",
              "    </tr>\n",
              "  </tbody>\n",
              "</table>"
            ],
            "text/plain": [
              "<IPython.core.display.HTML object>"
            ]
          },
          "metadata": {
            "tags": []
          }
        }
      ]
    },
    {
      "cell_type": "code",
      "metadata": {
        "id": "Iy8ur5a3fY9Z",
        "colab_type": "code",
        "outputId": "99fd31aa-f085-49fa-dff9-ce52669b811d",
        "colab": {
          "base_uri": "https://localhost:8080/",
          "height": 111
        }
      },
      "source": [
        "learn_c.freeze_to(-2)\n",
        "learn_c.fit_one_cycle(2, slice(lr/(2.6**4),lr), moms=(0.8,0.7))"
      ],
      "execution_count": 0,
      "outputs": [
        {
          "output_type": "display_data",
          "data": {
            "text/html": [
              "<table border=\"1\" class=\"dataframe\">\n",
              "  <thead>\n",
              "    <tr style=\"text-align: left;\">\n",
              "      <th>epoch</th>\n",
              "      <th>train_loss</th>\n",
              "      <th>valid_loss</th>\n",
              "      <th>accuracy</th>\n",
              "      <th>f1</th>\n",
              "      <th>time</th>\n",
              "    </tr>\n",
              "  </thead>\n",
              "  <tbody>\n",
              "    <tr>\n",
              "      <td>0</td>\n",
              "      <td>0.875853</td>\n",
              "      <td>0.812612</td>\n",
              "      <td>0.618312</td>\n",
              "      <td>0.618331</td>\n",
              "      <td>00:04</td>\n",
              "    </tr>\n",
              "    <tr>\n",
              "      <td>1</td>\n",
              "      <td>0.793859</td>\n",
              "      <td>0.746038</td>\n",
              "      <td>0.660783</td>\n",
              "      <td>0.659108</td>\n",
              "      <td>00:04</td>\n",
              "    </tr>\n",
              "  </tbody>\n",
              "</table>"
            ],
            "text/plain": [
              "<IPython.core.display.HTML object>"
            ]
          },
          "metadata": {
            "tags": []
          }
        }
      ]
    },
    {
      "cell_type": "code",
      "metadata": {
        "id": "wD9q8R-qfY9b",
        "colab_type": "code",
        "outputId": "c00e4108-5f35-4487-b124-48961a774a02",
        "colab": {
          "base_uri": "https://localhost:8080/",
          "height": 111
        }
      },
      "source": [
        "learn_c.freeze_to(-3)\n",
        "learn_c.fit_one_cycle(2, slice(lr/2/(2.6**4),lr/2), moms=(0.8,0.7))"
      ],
      "execution_count": 0,
      "outputs": [
        {
          "output_type": "display_data",
          "data": {
            "text/html": [
              "<table border=\"1\" class=\"dataframe\">\n",
              "  <thead>\n",
              "    <tr style=\"text-align: left;\">\n",
              "      <th>epoch</th>\n",
              "      <th>train_loss</th>\n",
              "      <th>valid_loss</th>\n",
              "      <th>accuracy</th>\n",
              "      <th>f1</th>\n",
              "      <th>time</th>\n",
              "    </tr>\n",
              "  </thead>\n",
              "  <tbody>\n",
              "    <tr>\n",
              "      <td>0</td>\n",
              "      <td>0.785492</td>\n",
              "      <td>0.734999</td>\n",
              "      <td>0.664644</td>\n",
              "      <td>0.660983</td>\n",
              "      <td>00:06</td>\n",
              "    </tr>\n",
              "    <tr>\n",
              "      <td>1</td>\n",
              "      <td>0.648044</td>\n",
              "      <td>0.681419</td>\n",
              "      <td>0.715389</td>\n",
              "      <td>0.714338</td>\n",
              "      <td>00:06</td>\n",
              "    </tr>\n",
              "  </tbody>\n",
              "</table>"
            ],
            "text/plain": [
              "<IPython.core.display.HTML object>"
            ]
          },
          "metadata": {
            "tags": []
          }
        }
      ]
    },
    {
      "cell_type": "code",
      "metadata": {
        "id": "tSRxp-pjfY9d",
        "colab_type": "code",
        "outputId": "d2869844-ef07-4d67-f500-0241e272aed1",
        "colab": {
          "base_uri": "https://localhost:8080/",
          "height": 80
        }
      },
      "source": [
        "learn_c.unfreeze()\n",
        "learn_c.fit_one_cycle(1, slice(lr/10/(2.6**4),lr/10), moms=(0.8,0.7))"
      ],
      "execution_count": 0,
      "outputs": [
        {
          "output_type": "display_data",
          "data": {
            "text/html": [
              "<table border=\"1\" class=\"dataframe\">\n",
              "  <thead>\n",
              "    <tr style=\"text-align: left;\">\n",
              "      <th>epoch</th>\n",
              "      <th>train_loss</th>\n",
              "      <th>valid_loss</th>\n",
              "      <th>accuracy</th>\n",
              "      <th>f1</th>\n",
              "      <th>time</th>\n",
              "    </tr>\n",
              "  </thead>\n",
              "  <tbody>\n",
              "    <tr>\n",
              "      <td>0</td>\n",
              "      <td>0.229183</td>\n",
              "      <td>0.809705</td>\n",
              "      <td>0.747380</td>\n",
              "      <td>0.746243</td>\n",
              "      <td>00:09</td>\n",
              "    </tr>\n",
              "  </tbody>\n",
              "</table>"
            ],
            "text/plain": [
              "<IPython.core.display.HTML object>"
            ]
          },
          "metadata": {
            "tags": []
          }
        }
      ]
    },
    {
      "cell_type": "code",
      "metadata": {
        "id": "w3Y8sCaofY9f",
        "colab_type": "code",
        "colab": {}
      },
      "source": [
        "learn_c.save('hingclas-bet')"
      ],
      "execution_count": 0,
      "outputs": []
    },
    {
      "cell_type": "markdown",
      "metadata": {
        "id": "Z9IRBDwYfY9h",
        "colab_type": "text"
      },
      "source": [
        "## Ensemble"
      ]
    },
    {
      "cell_type": "code",
      "metadata": {
        "id": "DtoDmpOT5bZk",
        "colab_type": "code",
        "colab": {}
      },
      "source": [
        "cp ./models/ preprocessing/ -r"
      ],
      "execution_count": 0,
      "outputs": []
    },
    {
      "cell_type": "code",
      "metadata": {
        "id": "H2x5ZDJ08x6x",
        "colab_type": "code",
        "colab": {}
      },
      "source": [
        "learn_c"
      ],
      "execution_count": 0,
      "outputs": []
    },
    {
      "cell_type": "code",
      "metadata": {
        "id": "sEJPACuqfY9i",
        "colab_type": "code",
        "colab": {}
      },
      "source": [
        "data_clas = load_data('./', 'hing_textlist_class', bs=bs, num_workers=1)\n",
        "learn_c = text_classifier_learner(data_clas, AWD_LSTM, drop_mult=0.5, metrics=[accuracy,f1]).to_fp16()\n",
        "learn_c.load('hingclas-bet', purge=False);"
      ],
      "execution_count": 0,
      "outputs": []
    },
    {
      "cell_type": "code",
      "metadata": {
        "id": "nnFXWqx-fY9l",
        "colab_type": "code",
        "outputId": "dafb4cd5-c6e8-43b1-fb3c-ed196cdfc73b",
        "colab": {
          "base_uri": "https://localhost:8080/",
          "height": 34
        }
      },
      "source": [
        "preds,targs = learn_c.get_preds(ordered=True)\n",
        "accuracy(preds,targs),f1(preds,targs)"
      ],
      "execution_count": 0,
      "outputs": [
        {
          "output_type": "display_data",
          "data": {
            "text/html": [
              ""
            ],
            "text/plain": [
              "<IPython.core.display.HTML object>"
            ]
          },
          "metadata": {
            "tags": []
          }
        },
        {
          "output_type": "execute_result",
          "data": {
            "text/plain": [
              "(tensor(0.7474), tensor(0.7465))"
            ]
          },
          "metadata": {
            "tags": []
          },
          "execution_count": 127
        }
      ]
    },
    {
      "cell_type": "markdown",
      "metadata": {
        "id": "YrrqZaYQ_cCb",
        "colab_type": "text"
      },
      "source": [
        "#Backwards"
      ]
    },
    {
      "cell_type": "code",
      "metadata": {
        "id": "u6QvQNrLL9TM",
        "colab_type": "code",
        "colab": {}
      },
      "source": [
        "lm_fns = [f'{lang}_wt_bwd', f'{lang}_wt_vocab_bwd']\n"
      ],
      "execution_count": 0,
      "outputs": []
    },
    {
      "cell_type": "markdown",
      "metadata": {
        "id": "zH1h12ZHL9K4",
        "colab_type": "text"
      },
      "source": [
        ""
      ]
    },
    {
      "cell_type": "code",
      "metadata": {
        "id": "GuU4bqiKMC1c",
        "colab_type": "code",
        "outputId": "19c1119c-848a-4e6f-d6a3-51cc53ce68ac",
        "colab": {
          "base_uri": "https://localhost:8080/",
          "height": 34
        }
      },
      "source": [
        "cd ../../"
      ],
      "execution_count": 0,
      "outputs": [
        {
          "output_type": "stream",
          "text": [
            "/content/drive/My Drive/hinglish\n"
          ],
          "name": "stdout"
        }
      ]
    },
    {
      "cell_type": "code",
      "metadata": {
        "id": "48zP34p9-hX1",
        "colab_type": "code",
        "outputId": "887bf3a4-9ed4-419e-9a61-72e4bdc65278",
        "colab": {
          "base_uri": "https://localhost:8080/",
          "height": 17
        }
      },
      "source": [
        "\n",
        "data = (TextList.from_folder('./mkdata/mk_hing/')\n",
        "            .split_by_rand_pct(0.1, seed=42)\n",
        "            .label_for_lm()\n",
        "            .databunch(bs=bs, num_workers=1, backwards=True))\n",
        "\n",
        "data.save(f'{lang}_databunch_bwd')"
      ],
      "execution_count": 0,
      "outputs": [
        {
          "output_type": "display_data",
          "data": {
            "text/html": [
              ""
            ],
            "text/plain": [
              "<IPython.core.display.HTML object>"
            ]
          },
          "metadata": {
            "tags": []
          }
        },
        {
          "output_type": "display_data",
          "data": {
            "text/html": [
              ""
            ],
            "text/plain": [
              "<IPython.core.display.HTML object>"
            ]
          },
          "metadata": {
            "tags": []
          }
        }
      ]
    },
    {
      "cell_type": "code",
      "metadata": {
        "id": "y_iFjkHw-3D8",
        "colab_type": "code",
        "colab": {}
      },
      "source": [
        "learn = language_model_learner(data, AWD_LSTM, drop_mult=0.5, pretrained=False).to_fp16()"
      ],
      "execution_count": 0,
      "outputs": []
    },
    {
      "cell_type": "code",
      "metadata": {
        "id": "AbA_7Ee6-_PI",
        "colab_type": "code",
        "colab": {}
      },
      "source": [
        "lr = 3e-3\n",
        "lr *= bs/48 "
      ],
      "execution_count": 0,
      "outputs": []
    },
    {
      "cell_type": "code",
      "metadata": {
        "id": "p2itUK2-_EHC",
        "colab_type": "code",
        "outputId": "999c8ba3-8241-4bba-9dc9-a7a1c09fe242",
        "colab": {
          "base_uri": "https://localhost:8080/",
          "height": 359
        }
      },
      "source": [
        "learn.unfreeze()\n",
        "learn.fit_one_cycle(10, lr, moms=(0.8,0.7))"
      ],
      "execution_count": 0,
      "outputs": [
        {
          "output_type": "display_data",
          "data": {
            "text/html": [
              "<table border=\"1\" class=\"dataframe\">\n",
              "  <thead>\n",
              "    <tr style=\"text-align: left;\">\n",
              "      <th>epoch</th>\n",
              "      <th>train_loss</th>\n",
              "      <th>valid_loss</th>\n",
              "      <th>accuracy</th>\n",
              "      <th>time</th>\n",
              "    </tr>\n",
              "  </thead>\n",
              "  <tbody>\n",
              "    <tr>\n",
              "      <td>0</td>\n",
              "      <td>6.598625</td>\n",
              "      <td>5.693197</td>\n",
              "      <td>0.195623</td>\n",
              "      <td>00:14</td>\n",
              "    </tr>\n",
              "    <tr>\n",
              "      <td>1</td>\n",
              "      <td>5.741029</td>\n",
              "      <td>5.144393</td>\n",
              "      <td>0.230506</td>\n",
              "      <td>00:14</td>\n",
              "    </tr>\n",
              "    <tr>\n",
              "      <td>2</td>\n",
              "      <td>5.157814</td>\n",
              "      <td>4.880820</td>\n",
              "      <td>0.248425</td>\n",
              "      <td>00:14</td>\n",
              "    </tr>\n",
              "    <tr>\n",
              "      <td>3</td>\n",
              "      <td>4.712900</td>\n",
              "      <td>4.728408</td>\n",
              "      <td>0.258147</td>\n",
              "      <td>00:15</td>\n",
              "    </tr>\n",
              "    <tr>\n",
              "      <td>4</td>\n",
              "      <td>4.312734</td>\n",
              "      <td>4.630308</td>\n",
              "      <td>0.267212</td>\n",
              "      <td>00:15</td>\n",
              "    </tr>\n",
              "    <tr>\n",
              "      <td>5</td>\n",
              "      <td>3.979672</td>\n",
              "      <td>4.557407</td>\n",
              "      <td>0.273562</td>\n",
              "      <td>00:15</td>\n",
              "    </tr>\n",
              "    <tr>\n",
              "      <td>6</td>\n",
              "      <td>3.639757</td>\n",
              "      <td>4.545608</td>\n",
              "      <td>0.278137</td>\n",
              "      <td>00:15</td>\n",
              "    </tr>\n",
              "    <tr>\n",
              "      <td>7</td>\n",
              "      <td>3.299755</td>\n",
              "      <td>4.562874</td>\n",
              "      <td>0.280159</td>\n",
              "      <td>00:15</td>\n",
              "    </tr>\n",
              "    <tr>\n",
              "      <td>8</td>\n",
              "      <td>3.035282</td>\n",
              "      <td>4.593500</td>\n",
              "      <td>0.277641</td>\n",
              "      <td>00:15</td>\n",
              "    </tr>\n",
              "    <tr>\n",
              "      <td>9</td>\n",
              "      <td>2.943998</td>\n",
              "      <td>4.607327</td>\n",
              "      <td>0.278770</td>\n",
              "      <td>00:15</td>\n",
              "    </tr>\n",
              "  </tbody>\n",
              "</table>"
            ],
            "text/plain": [
              "<IPython.core.display.HTML object>"
            ]
          },
          "metadata": {
            "tags": []
          }
        }
      ]
    },
    {
      "cell_type": "code",
      "metadata": {
        "id": "5qxg-D-rDKaB",
        "colab_type": "code",
        "outputId": "e3df0130-8a5d-46f5-9102-f78a281b0077",
        "colab": {
          "base_uri": "https://localhost:8080/",
          "height": 34
        }
      },
      "source": [
        "cd mkdata/mk_hing/"
      ],
      "execution_count": 0,
      "outputs": [
        {
          "output_type": "stream",
          "text": [
            "/content/drive/My Drive/hinglish/mkdata/mk_hing\n"
          ],
          "name": "stdout"
        }
      ]
    },
    {
      "cell_type": "code",
      "metadata": {
        "id": "XGTdcYaBEcoR",
        "colab_type": "code",
        "outputId": "39ca70f9-2948-4a04-b120-fe6a63740c5b",
        "colab": {
          "base_uri": "https://localhost:8080/",
          "height": 51
        }
      },
      "source": [
        "ls models"
      ],
      "execution_count": 0,
      "outputs": [
        {
          "output_type": "stream",
          "text": [
            "hingclas-bet.pth  hing_fine_tuned_enc.pth  hing_wt_vocab.pkl\n",
            "hingclas.pth      hing_fine_tuned.pth\n"
          ],
          "name": "stdout"
        }
      ]
    },
    {
      "cell_type": "code",
      "metadata": {
        "id": "etjb-k7O_I77",
        "colab_type": "code",
        "colab": {}
      },
      "source": [
        "mdl_path = Path('./models')\n",
        "mdl_path.mkdir(exist_ok=True)\n",
        "learn.to_fp32().save(lm_fns[0], with_opt=False)\n",
        "learn.data.vocab.save(mdl_path/(lm_fns[1] + '.pkl'))"
      ],
      "execution_count": 0,
      "outputs": []
    },
    {
      "cell_type": "code",
      "metadata": {
        "id": "l8NwkPhFKsZ8",
        "colab_type": "code",
        "outputId": "256ba0d0-e349-4eb9-f096-f66ce3147216",
        "colab": {
          "base_uri": "https://localhost:8080/",
          "height": 34
        }
      },
      "source": [
        "cd ../../"
      ],
      "execution_count": 0,
      "outputs": [
        {
          "output_type": "stream",
          "text": [
            "/content/drive/My Drive/hinglish\n"
          ],
          "name": "stdout"
        }
      ]
    },
    {
      "cell_type": "code",
      "metadata": {
        "id": "uDcBg-0AJ3Sv",
        "colab_type": "code",
        "colab": {}
      },
      "source": [
        "train_df = pd.read_csv('../../preprocessing/tweets_train.csv',  names=['label','comment'])\n",
        "train_df.loc[pd.isna(train_df.comment),'comment']='NA'\n",
        "\n",
        "test_df = pd.read_csv('../../preprocessing/tweets_val.csv', names=['label','comment'])\n",
        "test_df.loc[pd.isna(test_df.comment),'comment']='NA'\n",
        "# test_df['label'] = 0\n",
        "\n",
        "df = pd.concat([train_df,test_df])"
      ],
      "execution_count": 0,
      "outputs": []
    },
    {
      "cell_type": "code",
      "metadata": {
        "id": "OVbAa69f_aeo",
        "colab_type": "code",
        "outputId": "42a59737-5641-49af-9b45-cf706d9ba492",
        "colab": {
          "base_uri": "https://localhost:8080/",
          "height": 17
        }
      },
      "source": [
        "data_lm = (TextList.from_df(df, cols='comment')\n",
        "    .split_by_rand_pct(0.1, seed=42)\n",
        "    .label_for_lm()           \n",
        "    .databunch(bs=bs, num_workers=1, backwards=True))"
      ],
      "execution_count": 0,
      "outputs": [
        {
          "output_type": "display_data",
          "data": {
            "text/html": [
              ""
            ],
            "text/plain": [
              "<IPython.core.display.HTML object>"
            ]
          },
          "metadata": {
            "tags": []
          }
        },
        {
          "output_type": "display_data",
          "data": {
            "text/html": [
              ""
            ],
            "text/plain": [
              "<IPython.core.display.HTML object>"
            ]
          },
          "metadata": {
            "tags": []
          }
        }
      ]
    },
    {
      "cell_type": "code",
      "metadata": {
        "id": "fZH-GzXiQNNh",
        "colab_type": "code",
        "outputId": "bd1ef53c-467b-43ed-89d6-d655915d2f04",
        "colab": {
          "base_uri": "https://localhost:8080/",
          "height": 34
        }
      },
      "source": [
        "ls models"
      ],
      "execution_count": 0,
      "outputs": [
        {
          "output_type": "stream",
          "text": [
            "hing_wt_bwd.pth  hing_wt.pth  hing_wt_vocab_bwd.pkl  hing_wt_vocab.pkl\n"
          ],
          "name": "stdout"
        }
      ]
    },
    {
      "cell_type": "code",
      "metadata": {
        "id": "q0VU917pLX3l",
        "colab_type": "code",
        "colab": {}
      },
      "source": [
        "learn_lm = language_model_learner(data_lm, AWD_LSTM, config={**awd_lstm_lm_config, 'n_hid': 1152}, pretrained_fnames=lm_fns, drop_mult=1.0)"
      ],
      "execution_count": 0,
      "outputs": []
    },
    {
      "cell_type": "code",
      "metadata": {
        "id": "VkucJUSqGZ2q",
        "colab_type": "code",
        "outputId": "02d563fd-18c6-46c1-917f-0245f4230a55",
        "colab": {
          "base_uri": "https://localhost:8080/",
          "height": 326
        }
      },
      "source": [
        "data_lm"
      ],
      "execution_count": 0,
      "outputs": [
        {
          "output_type": "execute_result",
          "data": {
            "text/plain": [
              "TextLMDataBunch;\n",
              "\n",
              "Train: LabelList (16318 items)\n",
              "x: LMTextList\n",
              "xxbos @ xxunk xxmaj pakistan of ghra xxunk he xxmaj pakistan xxmaj israel ko xxunk xxunk kerta palestine kehta he - xxunk palestine,xxbos motherfucker mulle mathura me other than(icl > not ) dikha tha mullo ne hindu on(fld > date ) iss liye mara ki xxunk ki paise mug(icl > drinking vessel ) liye the … https / / t . co / xxunk,xxbos @ narendramodi manya stellar minister(icl > human ) mahoday shriman narendra modi heart(icl > feel ) prime minister(icl > minister ) banne hardik greeting tahe ticker … https / / t . co / xxunk,xxbos @ xxunk _ @ ravishkumarblog xxmaj loksabha me public sirf modi on(fld > date ) vote(icl > thing ) de rahi thi season(agt > human equ > accustom gol > circumstances obj > human ) ki mp or xxup bjp ko without m … https / / t . co / xxunk,xxbos @ xxunk @ xxunk @ cricketworldcup xxmaj bhosdike xxunk ki shit only(icl > very ) rahoge sister fucker\n",
              "y: LMLabelList\n",
              ",,,,\n",
              "Path: .;\n",
              "\n",
              "Valid: LabelList (1813 items)\n",
              "x: LMTextList\n",
              "xxbos * a guy tweets * xxmaj can someone suggest me good xxunk books ? xxmaj xxunk xxmaj google commission(icl > action ) sale chutiye xxunk xxunk kahi au … https / / t . co / xxunk,xxbos @ vinodkapri those(icl > ) police wale bhe aukat xxunk musalman dalit per he dekhate have(icl > be ) . season(agt > human equ > accustom gol > circumstances obj > human ) jane enko bhagwa gu … https / / t . co / xxunk,xxbos @ muglikar _ xxunk ki madam ne . xxmaj waise exit poll k after(icl > how ) only(icl > very ) ne chhoda other than(icl > not ) hoga . xxmaj results k bad to xxunk lag gyi hogi .,xxbos rt @ xxunk xxmaj during my recent visit to xxmaj varanasi got to know about famous xxunk k laddoo ( xxunk के xxunk ) from xxmaj xxunk . xxmaj thanks to my …,xxbos @ indiatoday @ officeofknath unerring hoga sayad tabhi sirf appki channel over(aoj > communication channel ) dikh raha have(icl > be ) warna xxunk media … https / / t co / xxunk\n",
              "y: LMLabelList\n",
              ",,,,\n",
              "Path: .;\n",
              "\n",
              "Test: None"
            ]
          },
          "metadata": {
            "tags": []
          },
          "execution_count": 148
        }
      ]
    },
    {
      "cell_type": "code",
      "metadata": {
        "id": "p924oBYHAXvW",
        "colab_type": "code",
        "colab": {}
      },
      "source": [
        "\n",
        "lr = 1e-3\n",
        "lr *= bs/48"
      ],
      "execution_count": 0,
      "outputs": []
    },
    {
      "cell_type": "code",
      "metadata": {
        "id": "BArxDCzkA8cc",
        "colab_type": "code",
        "outputId": "21aa3f83-dafc-44ef-ea4a-fb9e6734119e",
        "colab": {
          "base_uri": "https://localhost:8080/",
          "height": 111
        }
      },
      "source": [
        "learn_lm.fit_one_cycle(2, lr*10, moms=(0.8,0.7))\n"
      ],
      "execution_count": 0,
      "outputs": [
        {
          "output_type": "display_data",
          "data": {
            "text/html": [
              "<table border=\"1\" class=\"dataframe\">\n",
              "  <thead>\n",
              "    <tr style=\"text-align: left;\">\n",
              "      <th>epoch</th>\n",
              "      <th>train_loss</th>\n",
              "      <th>valid_loss</th>\n",
              "      <th>accuracy</th>\n",
              "      <th>time</th>\n",
              "    </tr>\n",
              "  </thead>\n",
              "  <tbody>\n",
              "    <tr>\n",
              "      <td>0</td>\n",
              "      <td>3.064161</td>\n",
              "      <td>3.267594</td>\n",
              "      <td>0.467188</td>\n",
              "      <td>00:30</td>\n",
              "    </tr>\n",
              "    <tr>\n",
              "      <td>1</td>\n",
              "      <td>2.999673</td>\n",
              "      <td>3.198277</td>\n",
              "      <td>0.473954</td>\n",
              "      <td>00:31</td>\n",
              "    </tr>\n",
              "  </tbody>\n",
              "</table>"
            ],
            "text/plain": [
              "<IPython.core.display.HTML object>"
            ]
          },
          "metadata": {
            "tags": []
          }
        }
      ]
    },
    {
      "cell_type": "code",
      "metadata": {
        "id": "K25sWPYyA__Z",
        "colab_type": "code",
        "outputId": "6e46fc11-2a81-4da3-c48c-ce0de372d324",
        "colab": {
          "base_uri": "https://localhost:8080/",
          "height": 297
        }
      },
      "source": [
        "learn_lm.unfreeze()\n",
        "learn_lm.fit_one_cycle(8, lr, moms=(0.8,0.7))"
      ],
      "execution_count": 0,
      "outputs": [
        {
          "output_type": "display_data",
          "data": {
            "text/html": [
              "<table border=\"1\" class=\"dataframe\">\n",
              "  <thead>\n",
              "    <tr style=\"text-align: left;\">\n",
              "      <th>epoch</th>\n",
              "      <th>train_loss</th>\n",
              "      <th>valid_loss</th>\n",
              "      <th>accuracy</th>\n",
              "      <th>time</th>\n",
              "    </tr>\n",
              "  </thead>\n",
              "  <tbody>\n",
              "    <tr>\n",
              "      <td>0</td>\n",
              "      <td>2.836668</td>\n",
              "      <td>3.156348</td>\n",
              "      <td>0.477553</td>\n",
              "      <td>00:30</td>\n",
              "    </tr>\n",
              "    <tr>\n",
              "      <td>1</td>\n",
              "      <td>2.782719</td>\n",
              "      <td>3.108412</td>\n",
              "      <td>0.483636</td>\n",
              "      <td>00:31</td>\n",
              "    </tr>\n",
              "    <tr>\n",
              "      <td>2</td>\n",
              "      <td>2.741780</td>\n",
              "      <td>3.080884</td>\n",
              "      <td>0.486468</td>\n",
              "      <td>00:32</td>\n",
              "    </tr>\n",
              "    <tr>\n",
              "      <td>3</td>\n",
              "      <td>2.636172</td>\n",
              "      <td>3.054758</td>\n",
              "      <td>0.490737</td>\n",
              "      <td>00:31</td>\n",
              "    </tr>\n",
              "    <tr>\n",
              "      <td>4</td>\n",
              "      <td>2.548608</td>\n",
              "      <td>3.041898</td>\n",
              "      <td>0.494266</td>\n",
              "      <td>00:31</td>\n",
              "    </tr>\n",
              "    <tr>\n",
              "      <td>5</td>\n",
              "      <td>2.475833</td>\n",
              "      <td>3.029454</td>\n",
              "      <td>0.496191</td>\n",
              "      <td>00:31</td>\n",
              "    </tr>\n",
              "    <tr>\n",
              "      <td>6</td>\n",
              "      <td>2.414262</td>\n",
              "      <td>3.027545</td>\n",
              "      <td>0.496749</td>\n",
              "      <td>00:31</td>\n",
              "    </tr>\n",
              "    <tr>\n",
              "      <td>7</td>\n",
              "      <td>2.392987</td>\n",
              "      <td>3.030220</td>\n",
              "      <td>0.496540</td>\n",
              "      <td>00:32</td>\n",
              "    </tr>\n",
              "  </tbody>\n",
              "</table>"
            ],
            "text/plain": [
              "<IPython.core.display.HTML object>"
            ]
          },
          "metadata": {
            "tags": []
          }
        }
      ]
    },
    {
      "cell_type": "code",
      "metadata": {
        "id": "ud4pC9FNBFF3",
        "colab_type": "code",
        "colab": {}
      },
      "source": [
        "learn_lm.save(f'{lang}fine_tuned_bwd')\n",
        "learn_lm.save_encoder(f'{lang}fine_tuned_enc_bwd')"
      ],
      "execution_count": 0,
      "outputs": []
    },
    {
      "cell_type": "code",
      "metadata": {
        "id": "XOvF1NOYBFYy",
        "colab_type": "code",
        "outputId": "dd322f72-47b8-4210-a04c-783b27875486",
        "colab": {
          "base_uri": "https://localhost:8080/",
          "height": 17
        }
      },
      "source": [
        "data_clas = (TextList.from_df(df, vocab=data_lm.vocab, cols='comment')\n",
        "    .split_by_rand_pct(0.1, seed=42)\n",
        "    .label_from_df(cols='label')\n",
        "    .databunch(bs=bs, num_workers=1, backwards=True))\n",
        "\n",
        "data_clas.save(f'{lang}_textlist_class_bwd')"
      ],
      "execution_count": 0,
      "outputs": [
        {
          "output_type": "display_data",
          "data": {
            "text/html": [
              ""
            ],
            "text/plain": [
              "<IPython.core.display.HTML object>"
            ]
          },
          "metadata": {
            "tags": []
          }
        },
        {
          "output_type": "display_data",
          "data": {
            "text/html": [
              ""
            ],
            "text/plain": [
              "<IPython.core.display.HTML object>"
            ]
          },
          "metadata": {
            "tags": []
          }
        }
      ]
    },
    {
      "cell_type": "code",
      "metadata": {
        "id": "gbWNpbYwBFya",
        "colab_type": "code",
        "colab": {}
      },
      "source": [
        "learn_c = text_classifier_learner(data_clas, AWD_LSTM, drop_mult=0.5, metrics=[accuracy,f1]).to_fp16()\n",
        "learn_c.load_encoder(f'{lang}fine_tuned_enc_bwd')\n",
        "learn_c.freeze()"
      ],
      "execution_count": 0,
      "outputs": []
    },
    {
      "cell_type": "code",
      "metadata": {
        "id": "sp1-6GXEBGTE",
        "colab_type": "code",
        "colab": {}
      },
      "source": [
        "lr=2e-2\n",
        "lr *= bs/48"
      ],
      "execution_count": 0,
      "outputs": []
    },
    {
      "cell_type": "code",
      "metadata": {
        "id": "l6vlsIlSBGn2",
        "colab_type": "code",
        "outputId": "ef19b294-773e-485d-da47-fea1c1f780fb",
        "colab": {
          "base_uri": "https://localhost:8080/",
          "height": 111
        }
      },
      "source": [
        "learn_c.fit_one_cycle(2, lr, moms=(0.8,0.7))\n"
      ],
      "execution_count": 0,
      "outputs": [
        {
          "output_type": "display_data",
          "data": {
            "text/html": [
              "<table border=\"1\" class=\"dataframe\">\n",
              "  <thead>\n",
              "    <tr style=\"text-align: left;\">\n",
              "      <th>epoch</th>\n",
              "      <th>train_loss</th>\n",
              "      <th>valid_loss</th>\n",
              "      <th>accuracy</th>\n",
              "      <th>f1</th>\n",
              "      <th>time</th>\n",
              "    </tr>\n",
              "  </thead>\n",
              "  <tbody>\n",
              "    <tr>\n",
              "      <td>0</td>\n",
              "      <td>0.924399</td>\n",
              "      <td>0.875065</td>\n",
              "      <td>0.562052</td>\n",
              "      <td>0.523697</td>\n",
              "      <td>00:03</td>\n",
              "    </tr>\n",
              "    <tr>\n",
              "      <td>1</td>\n",
              "      <td>0.892861</td>\n",
              "      <td>0.834399</td>\n",
              "      <td>0.602317</td>\n",
              "      <td>0.595902</td>\n",
              "      <td>00:03</td>\n",
              "    </tr>\n",
              "  </tbody>\n",
              "</table>"
            ],
            "text/plain": [
              "<IPython.core.display.HTML object>"
            ]
          },
          "metadata": {
            "tags": []
          }
        }
      ]
    },
    {
      "cell_type": "code",
      "metadata": {
        "id": "9Xl0fVV9BHSq",
        "colab_type": "code",
        "outputId": "c4fdcc30-3f83-4c05-b59f-a94f9d198424",
        "colab": {
          "base_uri": "https://localhost:8080/",
          "height": 111
        }
      },
      "source": [
        "learn_c.freeze_to(-2)\n",
        "learn_c.fit_one_cycle(2, slice(lr/(2.6**4),lr), moms=(0.8,0.7))"
      ],
      "execution_count": 0,
      "outputs": [
        {
          "output_type": "display_data",
          "data": {
            "text/html": [
              "<table border=\"1\" class=\"dataframe\">\n",
              "  <thead>\n",
              "    <tr style=\"text-align: left;\">\n",
              "      <th>epoch</th>\n",
              "      <th>train_loss</th>\n",
              "      <th>valid_loss</th>\n",
              "      <th>accuracy</th>\n",
              "      <th>f1</th>\n",
              "      <th>time</th>\n",
              "    </tr>\n",
              "  </thead>\n",
              "  <tbody>\n",
              "    <tr>\n",
              "      <td>0</td>\n",
              "      <td>0.890110</td>\n",
              "      <td>0.822825</td>\n",
              "      <td>0.606729</td>\n",
              "      <td>0.592360</td>\n",
              "      <td>00:04</td>\n",
              "    </tr>\n",
              "    <tr>\n",
              "      <td>1</td>\n",
              "      <td>0.818140</td>\n",
              "      <td>0.819788</td>\n",
              "      <td>0.642581</td>\n",
              "      <td>0.635725</td>\n",
              "      <td>00:04</td>\n",
              "    </tr>\n",
              "  </tbody>\n",
              "</table>"
            ],
            "text/plain": [
              "<IPython.core.display.HTML object>"
            ]
          },
          "metadata": {
            "tags": []
          }
        }
      ]
    },
    {
      "cell_type": "code",
      "metadata": {
        "id": "8jzg3b7rBkD0",
        "colab_type": "code",
        "outputId": "a422075b-7aeb-4bff-a5ca-b05cfc5d17be",
        "colab": {
          "base_uri": "https://localhost:8080/",
          "height": 111
        }
      },
      "source": [
        "learn_c.freeze_to(-3)\n",
        "learn_c.fit_one_cycle(2, slice(lr/2/(2.6**4),lr/2), moms=(0.8,0.7))"
      ],
      "execution_count": 0,
      "outputs": [
        {
          "output_type": "display_data",
          "data": {
            "text/html": [
              "<table border=\"1\" class=\"dataframe\">\n",
              "  <thead>\n",
              "    <tr style=\"text-align: left;\">\n",
              "      <th>epoch</th>\n",
              "      <th>train_loss</th>\n",
              "      <th>valid_loss</th>\n",
              "      <th>accuracy</th>\n",
              "      <th>f1</th>\n",
              "      <th>time</th>\n",
              "    </tr>\n",
              "  </thead>\n",
              "  <tbody>\n",
              "    <tr>\n",
              "      <td>0</td>\n",
              "      <td>0.808235</td>\n",
              "      <td>0.776212</td>\n",
              "      <td>0.641478</td>\n",
              "      <td>0.642281</td>\n",
              "      <td>00:06</td>\n",
              "    </tr>\n",
              "    <tr>\n",
              "      <td>1</td>\n",
              "      <td>0.690625</td>\n",
              "      <td>0.726723</td>\n",
              "      <td>0.686707</td>\n",
              "      <td>0.682122</td>\n",
              "      <td>00:06</td>\n",
              "    </tr>\n",
              "  </tbody>\n",
              "</table>"
            ],
            "text/plain": [
              "<IPython.core.display.HTML object>"
            ]
          },
          "metadata": {
            "tags": []
          }
        }
      ]
    },
    {
      "cell_type": "code",
      "metadata": {
        "id": "5kosVMdZBkSG",
        "colab_type": "code",
        "outputId": "ea44001d-3768-4482-afa8-0aa07fec9182",
        "colab": {
          "base_uri": "https://localhost:8080/",
          "height": 80
        }
      },
      "source": [
        "learn_c.unfreeze()\n",
        "learn_c.fit_one_cycle(1, slice(lr/10/(2.6**4),lr/10), moms=(0.8,0.7))"
      ],
      "execution_count": 0,
      "outputs": [
        {
          "output_type": "display_data",
          "data": {
            "text/html": [
              "<table border=\"1\" class=\"dataframe\">\n",
              "  <thead>\n",
              "    <tr style=\"text-align: left;\">\n",
              "      <th>epoch</th>\n",
              "      <th>train_loss</th>\n",
              "      <th>valid_loss</th>\n",
              "      <th>accuracy</th>\n",
              "      <th>f1</th>\n",
              "      <th>time</th>\n",
              "    </tr>\n",
              "  </thead>\n",
              "  <tbody>\n",
              "    <tr>\n",
              "      <td>0</td>\n",
              "      <td>0.384885</td>\n",
              "      <td>0.756430</td>\n",
              "      <td>0.710425</td>\n",
              "      <td>0.708884</td>\n",
              "      <td>00:08</td>\n",
              "    </tr>\n",
              "  </tbody>\n",
              "</table>"
            ],
            "text/plain": [
              "<IPython.core.display.HTML object>"
            ]
          },
          "metadata": {
            "tags": []
          }
        }
      ]
    },
    {
      "cell_type": "code",
      "metadata": {
        "id": "x5Wa7NEUBlEW",
        "colab_type": "code",
        "colab": {}
      },
      "source": [
        "learn_c.save(f'{lang}clas_bwd')"
      ],
      "execution_count": 0,
      "outputs": []
    },
    {
      "cell_type": "code",
      "metadata": {
        "id": "OVkZ8z9cBx_T",
        "colab_type": "code",
        "colab": {}
      },
      "source": [
        ""
      ],
      "execution_count": 0,
      "outputs": []
    },
    {
      "cell_type": "code",
      "metadata": {
        "id": "nAg2qT-LByPS",
        "colab_type": "code",
        "colab": {}
      },
      "source": [
        ""
      ],
      "execution_count": 0,
      "outputs": []
    },
    {
      "cell_type": "code",
      "metadata": {
        "id": "KgzI3QdffY9r",
        "colab_type": "code",
        "outputId": "a88439e3-e558-4328-8aec-c3e8390fd803",
        "colab": {
          "base_uri": "https://localhost:8080/",
          "height": 34
        }
      },
      "source": [
        "data_clas_bwd = load_data('./', 'hing_textlist_class_bwd', bs=bs, num_workers=1, backwards=True)\n",
        "learn_c_bwd = text_classifier_learner(data_clas_bwd, AWD_LSTM, drop_mult=0.5, metrics=[accuracy,f1]).to_fp16()\n",
        "learn_c_bwd.load('hingclas_bwd', purge=False);"
      ],
      "execution_count": 0,
      "outputs": [
        {
          "output_type": "stream",
          "text": [
            "Downloading https://s3.amazonaws.com/fast-ai-modelzoo/wt103-fwd\n"
          ],
          "name": "stdout"
        },
        {
          "output_type": "display_data",
          "data": {
            "text/html": [
              ""
            ],
            "text/plain": [
              "<IPython.core.display.HTML object>"
            ]
          },
          "metadata": {
            "tags": []
          }
        }
      ]
    },
    {
      "cell_type": "code",
      "metadata": {
        "id": "PBnWKMR6fY9t",
        "colab_type": "code",
        "outputId": "d6d83d0d-27bf-46c1-953c-e8c851a1e444",
        "colab": {
          "base_uri": "https://localhost:8080/",
          "height": 34
        }
      },
      "source": [
        "preds_b,targs_b = learn_c_bwd.get_preds(ordered=True)\n",
        "accuracy(preds_b,targs_b),f1(preds_b,targs_b)"
      ],
      "execution_count": 0,
      "outputs": [
        {
          "output_type": "display_data",
          "data": {
            "text/html": [
              ""
            ],
            "text/plain": [
              "<IPython.core.display.HTML object>"
            ]
          },
          "metadata": {
            "tags": []
          }
        },
        {
          "output_type": "execute_result",
          "data": {
            "text/plain": [
              "(tensor(0.7104), tensor(0.7104))"
            ]
          },
          "metadata": {
            "tags": []
          },
          "execution_count": 13
        }
      ]
    },
    {
      "cell_type": "code",
      "metadata": {
        "id": "RJsmFpftfY9v",
        "colab_type": "code",
        "colab": {}
      },
      "source": [
        "preds_avg = (preds+preds_b)/2"
      ],
      "execution_count": 0,
      "outputs": []
    },
    {
      "cell_type": "code",
      "metadata": {
        "id": "Q7-OJWVWfY9y",
        "colab_type": "code",
        "outputId": "d4d4ad51-9e7c-4719-c73f-1ef85bb60a36",
        "colab": {
          "base_uri": "https://localhost:8080/",
          "height": 34
        }
      },
      "source": [
        "accuracy(preds_avg,targs_b),f1(preds_avg,targs_b)"
      ],
      "execution_count": 0,
      "outputs": [
        {
          "output_type": "execute_result",
          "data": {
            "text/plain": [
              "(tensor(0.9866), tensor(0.9866))"
            ]
          },
          "metadata": {
            "tags": []
          },
          "execution_count": 37
        }
      ]
    },
    {
      "cell_type": "code",
      "metadata": {
        "id": "kLaNtO0LfY90",
        "colab_type": "code",
        "outputId": "00eda6ae-60ad-4f4b-d1b8-a3900f9d8948",
        "colab": {
          "base_uri": "https://localhost:8080/",
          "height": 17
        }
      },
      "source": [
        "preds_b,targs_b = learn_c_bwd.get_preds(data_lm_test)"
      ],
      "execution_count": 0,
      "outputs": [
        {
          "output_type": "display_data",
          "data": {
            "text/html": [
              ""
            ],
            "text/plain": [
              "<IPython.core.display.HTML object>"
            ]
          },
          "metadata": {
            "tags": []
          }
        }
      ]
    },
    {
      "cell_type": "code",
      "metadata": {
        "id": "q8PBSOCGCysB",
        "colab_type": "code",
        "outputId": "b4b6ba8f-5382-45bc-c1e5-5a8e9c6a379c",
        "colab": {
          "base_uri": "https://localhost:8080/",
          "height": 34
        }
      },
      "source": [
        "preds,targs = learn_c.get_preds(data_lm_test)\n",
        "accuracy(preds,targs),f1(preds,targs)"
      ],
      "execution_count": 0,
      "outputs": [
        {
          "output_type": "display_data",
          "data": {
            "text/html": [
              ""
            ],
            "text/plain": [
              "<IPython.core.display.HTML object>"
            ]
          },
          "metadata": {
            "tags": []
          }
        },
        {
          "output_type": "execute_result",
          "data": {
            "text/plain": [
              "(tensor(0.9854), tensor(0.9853))"
            ]
          },
          "metadata": {
            "tags": []
          },
          "execution_count": 34
        }
      ]
    },
    {
      "cell_type": "code",
      "metadata": {
        "id": "4c5yfSjlC58S",
        "colab_type": "code",
        "outputId": "d8b97b99-e042-4509-ef36-86126942905a",
        "colab": {
          "base_uri": "https://localhost:8080/",
          "height": 34
        }
      },
      "source": [
        "accuracy(preds_b,targs_b),f1(preds_b,targs_b)"
      ],
      "execution_count": 0,
      "outputs": [
        {
          "output_type": "execute_result",
          "data": {
            "text/plain": [
              "(tensor(0.9537), tensor(0.9536))"
            ]
          },
          "metadata": {
            "tags": []
          },
          "execution_count": 35
        }
      ]
    },
    {
      "cell_type": "code",
      "metadata": {
        "id": "L2Zt-3AWct-J",
        "colab_type": "code",
        "colab": {}
      },
      "source": [
        "preds_aver1 = test_df.apply(learn_c.predict, axis=1)"
      ],
      "execution_count": 0,
      "outputs": []
    },
    {
      "cell_type": "code",
      "metadata": {
        "id": "up6VknZIGWnf",
        "colab_type": "code",
        "colab": {}
      },
      "source": [
        " \n",
        "test_df = pd.read_csv('./preprocessing/tweets_val.csv', names=['label','comment'])\n",
        "test_df.loc[pd.isna(test_df.comment),'comment']='NA'"
      ],
      "execution_count": 0,
      "outputs": []
    },
    {
      "cell_type": "code",
      "metadata": {
        "id": "bZsHN5y5ehct",
        "colab_type": "code",
        "outputId": "3cf9755e-1b5e-446f-a65b-22f651a04f45",
        "colab": {
          "base_uri": "https://localhost:8080/",
          "height": 17
        }
      },
      "source": [
        "data_lm_test = (TextList.from_df(test_df, cols='comment')\n",
        "    .split_none()\n",
        "    .label_for_lm()           \n",
        "    .databunch(bs=bs, num_workers=1))"
      ],
      "execution_count": 0,
      "outputs": [
        {
          "output_type": "display_data",
          "data": {
            "text/html": [
              ""
            ],
            "text/plain": [
              "<IPython.core.display.HTML object>"
            ]
          },
          "metadata": {
            "tags": []
          }
        },
        {
          "output_type": "display_data",
          "data": {
            "text/html": [
              ""
            ],
            "text/plain": [
              "<IPython.core.display.HTML object>"
            ]
          },
          "metadata": {
            "tags": []
          }
        }
      ]
    },
    {
      "cell_type": "code",
      "metadata": {
        "id": "xZXC0z2N-xE8",
        "colab_type": "code",
        "colab": {}
      },
      "source": [
        "n = targs_b.shape[0]\n",
        "inp = preds_avg.argmax(dim=-1).view(n,-1)"
      ],
      "execution_count": 0,
      "outputs": []
    },
    {
      "cell_type": "code",
      "metadata": {
        "id": "X_y9UoosIg03",
        "colab_type": "code",
        "outputId": "a60a6c18-3264-4e06-8f7d-9918b9430b60",
        "colab": {
          "base_uri": "https://localhost:8080/",
          "height": 221
        }
      },
      "source": [
        "preds_aver"
      ],
      "execution_count": 0,
      "outputs": [
        {
          "output_type": "execute_result",
          "data": {
            "text/plain": [
              "0       (0, tensor(0), [tensor(0.9999), tensor(5.8374e...\n",
              "1       (1, tensor(1), [tensor(0.0007), tensor(0.9871)...\n",
              "2       (1, tensor(1), [tensor(0.0056), tensor(0.9537)...\n",
              "3       (2, tensor(2), [tensor(0.0112), tensor(0.0016)...\n",
              "4       (0, tensor(0), [tensor(0.9949), tensor(4.0489e...\n",
              "                              ...                        \n",
              "2995    (1, tensor(1), [tensor(8.2835e-05), tensor(0.9...\n",
              "2996    (2, tensor(2), [tensor(0.0069), tensor(0.0026)...\n",
              "2997    (2, tensor(2), [tensor(0.0487), tensor(0.1274)...\n",
              "2998    (1, tensor(1), [tensor(0.0124), tensor(0.6999)...\n",
              "2999    (2, tensor(2), [tensor(0.0537), tensor(0.0993)...\n",
              "Length: 3000, dtype: object"
            ]
          },
          "metadata": {
            "tags": []
          },
          "execution_count": 70
        }
      ]
    },
    {
      "cell_type": "code",
      "metadata": {
        "id": "l0orNfYaKvlK",
        "colab_type": "code",
        "outputId": "d7fa2c74-a5c1-44a3-baff-cd837e11b88b",
        "colab": {
          "base_uri": "https://localhost:8080/",
          "height": 289
        }
      },
      "source": [
        "data_lm_test.show_batch()"
      ],
      "execution_count": 0,
      "outputs": [
        {
          "output_type": "display_data",
          "data": {
            "text/html": [
              "<table border=\"1\" class=\"dataframe\">\n",
              "  <thead>\n",
              "    <tr style=\"text-align: right;\">\n",
              "      <th>idx</th>\n",
              "      <th>text</th>\n",
              "    </tr>\n",
              "  </thead>\n",
              "  <tbody>\n",
              "    <tr>\n",
              "      <td>0</td>\n",
              "      <td>paida hi xxunk hue the ! ! xxbos @ xxunk sir local police station pe complaint krne par bi xxunk nhi hai .. mene 5 may 2019 xxmaj ko complaint xxunk … https / / t . co / xxunk xxbos xxmaj ve xxmaj xxunk song from # xxmaj xxunk is xxunk favourite ! # xxmaj music # xxmaj xxunk # arijitsingh @ xxunk you are becoming my xxunk …</td>\n",
              "    </tr>\n",
              "    <tr>\n",
              "      <td>1</td>\n",
              "      <td>raha nahi kisi xxmaj xxunk pe xxmaj xxunk hi nahi he koi kyuki koi xxunk ne wala nahi : folded_hands : https / / t . co / xxunk xxbos @ ansaraabbasi xxmaj mere xxunk xxmaj ham xxmaj pakistan hai aur xxmaj inshallah xxmaj pakistan he is xxmaj xxunk ko xxmaj khatam xxmaj karega xxbos @ tarekfatah xxmaj sir ji apko xxunk for xxunk this video . xxmaj dil khus</td>\n",
              "    </tr>\n",
              "    <tr>\n",
              "      <td>2</td>\n",
              "      <td>aane wale 100 days new india ke liye bhut hi xxunk hone wale hain . e xxunk xxunk aur xxunk 's main apko bhut utar - xxunk … xxbos @ sherryontopp @ rahulgandhi @ priyankagandhi @ xxunk @ incindia @ xxup xxunk @ xxunk xxmaj yahi sab bakwas kar ke to xxunk diya congress ko xxbos @ anjanaomkashyap xxmaj esi baat xxunk xxmaj madam ek debate apke sath @ sambitswaraj</td>\n",
              "    </tr>\n",
              "    <tr>\n",
              "      <td>3</td>\n",
              "      <td>sweet and nice one of my close friends who i really trust and xxunk xxunk kabhi dm xxunk karo : pouting_face : xxbos @ rahulgandhi hello xxmaj mr . xxmaj who r u ? ? ? xxmaj agar tumhari xxmaj maa ne ye nahi kiya hota to aaj congress ki ye haalat nahi hoti ... p … https / / t . co / xxunk xxbos @ xxunk @ aimim</td>\n",
              "    </tr>\n",
              "    <tr>\n",
              "      <td>4</td>\n",
              "      <td>jaise xxmaj mata aur pita ... aur xxunk mere xxunk se nahi paida ho sakte hain .. i … https / / t . co / xxunk xxbos xxmaj ye xxmaj ye xxrep 5 . ye xxrep 7 ? xxmaj we gon na start another xxmaj june on a xxunk xxunk ? u xxrep 4 h yes no yes xxrep 6 . no ( yes ) xxbos @ ashutosh83b xxup</td>\n",
              "    </tr>\n",
              "  </tbody>\n",
              "</table>"
            ],
            "text/plain": [
              "<IPython.core.display.HTML object>"
            ]
          },
          "metadata": {
            "tags": []
          }
        }
      ]
    },
    {
      "cell_type": "code",
      "metadata": {
        "id": "6ZVfPv_fK_Ev",
        "colab_type": "code",
        "colab": {}
      },
      "source": [
        "p=[]\n",
        "for i,j in zip(preds_aver,preds_aver1):\n",
        "    p.append((i[2]+j[2])/2)"
      ],
      "execution_count": 0,
      "outputs": []
    },
    {
      "cell_type": "code",
      "metadata": {
        "id": "kjvCgCo4PXi3",
        "colab_type": "code",
        "colab": {}
      },
      "source": [
        "for i in range(0,len(p)):\n",
        "    p[i]=p[i].argmax(dim=-1).numpy()"
      ],
      "execution_count": 0,
      "outputs": []
    },
    {
      "cell_type": "code",
      "metadata": {
        "id": "oQwEHTNrXXsh",
        "colab_type": "code",
        "outputId": "fc35e3d8-27f5-4100-eccc-d9d763e4781a",
        "colab": {
          "base_uri": "https://localhost:8080/",
          "height": 34
        }
      },
      "source": [
        "for i in range(0,len(p)):\n",
        "    p[i]=p[i]."
      ],
      "execution_count": 0,
      "outputs": [
        {
          "output_type": "execute_result",
          "data": {
            "text/plain": [
              "[array(0), array(1), array(1)]"
            ]
          },
          "metadata": {
            "tags": []
          },
          "execution_count": 93
        }
      ]
    },
    {
      "cell_type": "code",
      "metadata": {
        "id": "WP5WJBsVXgbm",
        "colab_type": "code",
        "colab": {}
      },
      "source": [
        ""
      ],
      "execution_count": 0,
      "outputs": []
    }
  ]
}